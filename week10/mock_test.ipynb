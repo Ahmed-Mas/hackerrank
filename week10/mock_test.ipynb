{
 "cells": [
  {
   "cell_type": "code",
   "execution_count": 2,
   "metadata": {},
   "outputs": [],
   "source": [
    "k = 2\n",
    "arr = [1,5,3,4,2]\n"
   ]
  },
  {
   "cell_type": "code",
   "execution_count": 3,
   "metadata": {},
   "outputs": [
    {
     "data": {
      "text/plain": [
       "[1, 2, 3, 4, 5]"
      ]
     },
     "execution_count": 3,
     "metadata": {},
     "output_type": "execute_result"
    }
   ],
   "source": [
    "arr_sor = sorted(arr)\n",
    "arr_sor"
   ]
  },
  {
   "cell_type": "code",
   "execution_count": 11,
   "metadata": {},
   "outputs": [],
   "source": [
    "pairs = 0\n",
    "arr_sor_set = set(arr_sor)\n",
    "for val in arr_sor:  # O(n)\n",
    "    if val + k in arr_sor_set:\n",
    "        pairs += 1"
   ]
  },
  {
   "cell_type": "code",
   "execution_count": 12,
   "metadata": {},
   "outputs": [
    {
     "data": {
      "text/plain": [
       "3"
      ]
     },
     "execution_count": 12,
     "metadata": {},
     "output_type": "execute_result"
    }
   ],
   "source": [
    "pairs"
   ]
  },
  {
   "cell_type": "code",
   "execution_count": 13,
   "metadata": {},
   "outputs": [],
   "source": [
    "# almost sorted"
   ]
  },
  {
   "cell_type": "code",
   "execution_count": 28,
   "metadata": {},
   "outputs": [],
   "source": [
    "arr = [1, 5, 4, 3, 2, 6]"
   ]
  },
  {
   "cell_type": "code",
   "execution_count": 29,
   "metadata": {},
   "outputs": [],
   "source": [
    "def check_sorted(arr):\n",
    "    return arr == sorted(arr)\n"
   ]
  },
  {
   "cell_type": "code",
   "execution_count": 30,
   "metadata": {},
   "outputs": [
    {
     "data": {
      "text/plain": [
       "False"
      ]
     },
     "execution_count": 30,
     "metadata": {},
     "output_type": "execute_result"
    }
   ],
   "source": [
    "check_sorted(arr)"
   ]
  },
  {
   "cell_type": "code",
   "execution_count": 31,
   "metadata": {},
   "outputs": [],
   "source": [
    "# check if 1 swap will work\n",
    "def check_swap(arr):\n",
    "    arr_copy = arr.copy()\n",
    "    sorted_arr = sorted(arr)\n",
    "    idx_dict = {val: idx for idx, val in enumerate(arr)}\n",
    "\n",
    "    for idx in range(len(arr_copy)):\n",
    "        if arr_copy[idx] == sorted_arr[idx]: continue\n",
    "        break\n",
    "\n",
    "    correct_idx = idx_dict[sorted_arr[idx]]\n",
    "    idx_dict[arr_copy[idx]] = correct_idx\n",
    "    arr_copy[correct_idx], arr_copy[idx] = arr_copy[idx], arr_copy[correct_idx]\n",
    "    if arr_copy == sorted_arr:\n",
    "        return(idx, correct_idx)\n",
    "    return False\n"
   ]
  },
  {
   "cell_type": "code",
   "execution_count": 32,
   "metadata": {},
   "outputs": [
    {
     "data": {
      "text/plain": [
       "False"
      ]
     },
     "execution_count": 32,
     "metadata": {},
     "output_type": "execute_result"
    }
   ],
   "source": [
    "check_swap(arr)"
   ]
  },
  {
   "cell_type": "code",
   "execution_count": 50,
   "metadata": {},
   "outputs": [
    {
     "data": {
      "text/plain": [
       "[1, 5, 4, 3, 2, 6]"
      ]
     },
     "execution_count": 50,
     "metadata": {},
     "output_type": "execute_result"
    }
   ],
   "source": [
    "arr"
   ]
  },
  {
   "cell_type": "code",
   "execution_count": 51,
   "metadata": {},
   "outputs": [],
   "source": [
    "# check if theres some subarray that can be reversed\n",
    "def check_reverse(arr):\n",
    "    arr_copy = arr.copy()\n",
    "    sorted_arr = sorted(arr)\n",
    "\n",
    "    idx = 0\n",
    "    while idx < len(arr_copy) - 1:\n",
    "        if arr_copy[idx] < arr_copy[idx + 1]:\n",
    "            idx += 1\n",
    "            continue\n",
    "        beg = idx\n",
    "        end = beg + 1\n",
    "        while end < len(arr_copy) - 1 and arr_copy[idx] > arr_copy[end]:\n",
    "            idx += 1\n",
    "            end += 1\n",
    "        \n",
    "        # (beg, idx)\n",
    "        break\n",
    "    \n",
    "    if arr_copy[:beg] + arr_copy[idx:beg-1:-1] + arr_copy[idx+1:] == sorted_arr:\n",
    "        return (beg, idx)\n",
    "    return False"
   ]
  },
  {
   "cell_type": "code",
   "execution_count": 52,
   "metadata": {},
   "outputs": [
    {
     "data": {
      "text/plain": [
       "(1, 4)"
      ]
     },
     "execution_count": 52,
     "metadata": {},
     "output_type": "execute_result"
    }
   ],
   "source": [
    "check_reverse(arr)"
   ]
  },
  {
   "cell_type": "code",
   "execution_count": null,
   "metadata": {},
   "outputs": [],
   "source": []
  }
 ],
 "metadata": {
  "kernelspec": {
   "display_name": ".venv",
   "language": "python",
   "name": "python3"
  },
  "language_info": {
   "codemirror_mode": {
    "name": "ipython",
    "version": 3
   },
   "file_extension": ".py",
   "mimetype": "text/x-python",
   "name": "python",
   "nbconvert_exporter": "python",
   "pygments_lexer": "ipython3",
   "version": "3.10.9"
  },
  "orig_nbformat": 4
 },
 "nbformat": 4,
 "nbformat_minor": 2
}
