{
 "cells": [
  {
   "cell_type": "code",
   "execution_count": 30,
   "metadata": {},
   "outputs": [],
   "source": [
    "h = [1, 2, 3, 4, 5]\n",
    "# h = [3, 2, 3]\n",
    "h = [1,2,3,3,3,4,1,1,2]"
   ]
  },
  {
   "cell_type": "code",
   "execution_count": 31,
   "metadata": {},
   "outputs": [],
   "source": [
    "a = 0\n",
    "for i in range(len(h)):\n",
    "    l = i - 1 \n",
    "    r = i + 1\n",
    "    length = 1\n",
    "    while l >= 0 and h[l] >= h[i]:\n",
    "        length += 1\n",
    "        l -= 1\n",
    "    while r < len(h) and h[r] >= h[i]:\n",
    "        length += 1\n",
    "        r += 1\n",
    "    a = max(a, (length * h[i]))\n"
   ]
  },
  {
   "cell_type": "code",
   "execution_count": 33,
   "metadata": {},
   "outputs": [
    {
     "data": {
      "text/plain": [
       "12"
      ]
     },
     "execution_count": 33,
     "metadata": {},
     "output_type": "execute_result"
    }
   ],
   "source": [
    "a"
   ]
  },
  {
   "cell_type": "code",
   "execution_count": 1,
   "metadata": {},
   "outputs": [],
   "source": [
    "def largestRectangle(h: list[int]) -> int:\n",
    "    # Write your code here\n",
    "    a = 0\n",
    "    for i in range(len(h)):\n",
    "        l = i - 1 \n",
    "        r = i + 1\n",
    "        length = 1\n",
    "        while l >= 0 and h[l] >= h[i]:\n",
    "            length += 1\n",
    "            l -= 1\n",
    "        while r < len(h) and h[r] >= h[i]:\n",
    "            length += 1\n",
    "            r += 1\n",
    "        a = max(a, (length * h[i]))\n",
    "    return a\n"
   ]
  },
  {
   "cell_type": "code",
   "execution_count": null,
   "metadata": {},
   "outputs": [],
   "source": []
  }
 ],
 "metadata": {
  "kernelspec": {
   "display_name": ".venv",
   "language": "python",
   "name": "python3"
  },
  "language_info": {
   "codemirror_mode": {
    "name": "ipython",
    "version": 3
   },
   "file_extension": ".py",
   "mimetype": "text/x-python",
   "name": "python",
   "nbconvert_exporter": "python",
   "pygments_lexer": "ipython3",
   "version": "3.10.9"
  },
  "orig_nbformat": 4,
  "vscode": {
   "interpreter": {
    "hash": "ae2d3659b3684f688dcecafa70fc576f1d22112b75078f64f7d72a545140f712"
   }
  }
 },
 "nbformat": 4,
 "nbformat_minor": 2
}
