{
 "cells": [
  {
   "cell_type": "code",
   "execution_count": 4,
   "metadata": {},
   "outputs": [],
   "source": [
    "arr = [1,3,2]\n",
    "# arr = [5,3,2,1,4]\n",
    "# arr = [5,3,2,1]\n",
    "# arr = [4,2,3,5,1]\n",
    "# arr = [5,2,3,1]\n",
    "# arr = [11, 9, 10, 5, 8, 3, 2, 7, 6, 4, 1]\n",
    "# arr = [10, 7, 9, 2, 5, 8, 4, 1, 3, 6]\n",
    "# arr = [3, 4, 5, 1, 2]\n",
    "# arr = [3, 4, 1, 5, 2]"
   ]
  },
  {
   "cell_type": "code",
   "execution_count": 2,
   "metadata": {},
   "outputs": [],
   "source": [
    "# got this from discussions. Couldn't figure it out\n",
    "# this answer makes sense. the real clutch part is memoization\n",
    "\n",
    "def permutationGame(arr):\n",
    "    isIncreasing = lambda arr: all([arr[i] < arr[i + 1] for i in range(len(arr) - 1)])\n",
    "    \n",
    "    memo = {}\n",
    " \n",
    "    def findWinner(arr):\n",
    "        key = tuple(arr)\n",
    "        if key in memo: return memo[key]\n",
    "        \n",
    "        if isIncreasing(arr): \n",
    "            memo[key] = True\n",
    "            return True\n",
    "    \n",
    "        for idx in range(len(arr)):\n",
    "            if findWinner(arr[:idx] + arr[idx + 1:]): \n",
    "                memo[key] = False\n",
    "                return False \n",
    "            \n",
    "        memo[key] = True\n",
    "        return True \n",
    "   \n",
    "    return 'Bob' if findWinner(arr) else 'Alice'\n"
   ]
  },
  {
   "cell_type": "code",
   "execution_count": 5,
   "metadata": {},
   "outputs": [
    {
     "data": {
      "text/plain": [
       "'Alice'"
      ]
     },
     "execution_count": 5,
     "metadata": {},
     "output_type": "execute_result"
    }
   ],
   "source": [
    "permutationGame(arr)"
   ]
  },
  {
   "cell_type": "code",
   "execution_count": null,
   "metadata": {},
   "outputs": [],
   "source": []
  }
 ],
 "metadata": {
  "kernelspec": {
   "display_name": ".venv",
   "language": "python",
   "name": "python3"
  },
  "language_info": {
   "codemirror_mode": {
    "name": "ipython",
    "version": 3
   },
   "file_extension": ".py",
   "mimetype": "text/x-python",
   "name": "python",
   "nbconvert_exporter": "python",
   "pygments_lexer": "ipython3",
   "version": "3.10.9"
  },
  "orig_nbformat": 4,
  "vscode": {
   "interpreter": {
    "hash": "ae2d3659b3684f688dcecafa70fc576f1d22112b75078f64f7d72a545140f712"
   }
  }
 },
 "nbformat": 4,
 "nbformat_minor": 2
}
