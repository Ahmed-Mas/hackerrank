{
 "cells": [
  {
   "cell_type": "code",
   "execution_count": 127,
   "metadata": {},
   "outputs": [],
   "source": [
    "A = [1, 2, 3, 9, 10, 12]\n",
    "k = 7"
   ]
  },
  {
   "cell_type": "code",
   "execution_count": 85,
   "metadata": {},
   "outputs": [],
   "source": [
    "A = [13, 47, 74, 12, 89, 74, 18, 38]\n",
    "k = 90"
   ]
  },
  {
   "cell_type": "code",
   "execution_count": 86,
   "metadata": {},
   "outputs": [
    {
     "data": {
      "text/plain": [
       "[89, 74, 74, 47, 38, 18, 13, 12]"
      ]
     },
     "execution_count": 86,
     "metadata": {},
     "output_type": "execute_result"
    }
   ],
   "source": [
    "A.sort()\n",
    "A.reverse()\n",
    "A"
   ]
  },
  {
   "cell_type": "code",
   "execution_count": 117,
   "metadata": {},
   "outputs": [],
   "source": [
    "test = [0,1,2,4,5]"
   ]
  },
  {
   "cell_type": "code",
   "execution_count": 121,
   "metadata": {},
   "outputs": [],
   "source": [
    "def insert_order(n: int, a: list[int]):\n",
    "    i = len(a) - 1\n",
    "    while i >= 0 and n > a[i]:\n",
    "        i -= 1\n",
    "    a.insert(i + 1, n)\n"
   ]
  },
  {
   "cell_type": "code",
   "execution_count": 76,
   "metadata": {},
   "outputs": [],
   "source": [
    "def cookies(k: int, A: list[int]) -> int:\n",
    "    A.sort()\n",
    "    A.reverse()\n",
    "    ops = 0\n",
    "    while len(A) > 2:\n",
    "        if A[-1] > k: break\n",
    "        x = A.pop()\n",
    "        y = A.pop()\n",
    "        n = x + (2 * y)\n",
    "        insert_order(n, A)\n",
    "        ops += 1\n",
    "    return ops if A[0] > k else -1\n"
   ]
  },
  {
   "cell_type": "code",
   "execution_count": 123,
   "metadata": {},
   "outputs": [
    {
     "name": "stdout",
     "output_type": "stream",
     "text": [
      "2\n"
     ]
    }
   ],
   "source": [
    "A.sort()\n",
    "A.reverse()\n",
    "ops = 0\n",
    "while len(A) > 2:\n",
    "    if A[-1] > k: break\n",
    "    x = A.pop()\n",
    "    y = A.pop()\n",
    "    n = x + (2 * y)\n",
    "    insert_order(n, A)\n",
    "    ops += 1\n",
    "print(ops)"
   ]
  },
  {
   "cell_type": "code",
   "execution_count": 20,
   "metadata": {},
   "outputs": [],
   "source": [
    "ops = 0\n",
    "while smallest:\n",
    "    if len(smallest) == 1: print(-1)\n",
    "    x = smallest.pop()\n",
    "    y = smallest.pop()\n",
    "    new = x + (2*y)\n",
    "    if new < k: smallest.append(new)\n",
    "    ops += 1\n"
   ]
  },
  {
   "cell_type": "code",
   "execution_count": 21,
   "metadata": {},
   "outputs": [
    {
     "data": {
      "text/plain": [
       "2"
      ]
     },
     "execution_count": 21,
     "metadata": {},
     "output_type": "execute_result"
    }
   ],
   "source": [
    "ops"
   ]
  },
  {
   "cell_type": "code",
   "execution_count": 49,
   "metadata": {},
   "outputs": [],
   "source": [
    "import bisect"
   ]
  },
  {
   "cell_type": "code",
   "execution_count": 59,
   "metadata": {},
   "outputs": [],
   "source": [
    "a = [3,2,1]\n",
    "bisect.insort(a, 4, key=lambda x: -1 * x)"
   ]
  },
  {
   "cell_type": "code",
   "execution_count": 60,
   "metadata": {},
   "outputs": [
    {
     "data": {
      "text/plain": [
       "[4, 3, 2, 1]"
      ]
     },
     "execution_count": 60,
     "metadata": {},
     "output_type": "execute_result"
    }
   ],
   "source": [
    "a"
   ]
  },
  {
   "cell_type": "code",
   "execution_count": 2,
   "metadata": {},
   "outputs": [],
   "source": [
    "def cookies(k, A):\n",
    "    # Write your code here\n",
    "    A.sort()\n",
    "    ops = 0\n",
    "    while len(A) > 1 and A[0] < k:\n",
    "        new = A.pop(0) + (2 * A.pop(0))\n",
    "        bisect.insort(A, new)\n",
    "        ops += 1\n",
    "    if A and A[0] < k:\n",
    "        return -1\n",
    "    return ops\n"
   ]
  },
  {
   "cell_type": "code",
   "execution_count": 124,
   "metadata": {},
   "outputs": [
    {
     "data": {
      "text/plain": [
       "4"
      ]
     },
     "execution_count": 124,
     "metadata": {},
     "output_type": "execute_result"
    }
   ],
   "source": [
    "cookies(\n",
    "    229699, \n",
    "    [\n",
    "        21223, 22590, 48019, 54563, 28968, 65753, 84927, 64598, 75555, 31686, 3050, 70032, 78191, 5207, 73703, 37066, 7526, 88685, 48365, 40920, 38445, 81377, 53641, 9899, 87776, 51751, 77810, 52427, 55887, 85835, 88838, 30728, 68003, 95312, 61591, 52278, 10467, 68863, 59954, 51011, 8251, 89, 14, 87755, 19052, 58324, 4210, 41217, 82323, 11251, 45047, 79258, 43641, 23904, 33102, 31597, 55786, 19945, 82616, 24683, 68891, 65746, 78166, 26933, 70624, 65429,37015,29613,8662,7608,36189,34130,51174,54623,71083,75643,91147,61518,91379,86455,36746,53752,45745,32870,15616,64266,31651,74475,19594,63523,49034,63531,61137,96687,40646,63196,76052,46086,22680,68304,68059,72978,17492,58959,6732,44231,71208,14000,6948,97454,72881,57670,7825,45741,14478,9785,80907,20444,29733,97899,57965,63142,19504,4101,22116,75609,6000,63056,37851,19533,85527,35566,77390,71642,17460,52737,68205,26357,23853,62167,95997,56294,5728,26694,84279,90265,67267,33015,36936,31718,19264,87748,31523,30576,48512,56255\n",
    "    ]\n",
    ")"
   ]
  },
  {
   "cell_type": "code",
   "execution_count": 125,
   "metadata": {},
   "outputs": [],
   "source": [
    "from heapq import heapify, heappop, heapreplace"
   ]
  },
  {
   "cell_type": "code",
   "execution_count": 129,
   "metadata": {},
   "outputs": [],
   "source": [
    "# this is the only implementation that worked with the test cases. All others werent fast enough\n",
    "def cookies(k, A):\n",
    "    heapify(A)\n",
    "    ops=0\n",
    "    while A[0]<k:\n",
    "        if len(A)<2: return -1\n",
    "        a=heappop(A)\n",
    "        heapreplace(A,a+A[0]*2)\n",
    "        ops+=1\n",
    "    return ops\n"
   ]
  },
  {
   "cell_type": "code",
   "execution_count": null,
   "metadata": {},
   "outputs": [],
   "source": []
  }
 ],
 "metadata": {
  "kernelspec": {
   "display_name": ".venv",
   "language": "python",
   "name": "python3"
  },
  "language_info": {
   "codemirror_mode": {
    "name": "ipython",
    "version": 3
   },
   "file_extension": ".py",
   "mimetype": "text/x-python",
   "name": "python",
   "nbconvert_exporter": "python",
   "pygments_lexer": "ipython3",
   "version": "3.10.9"
  },
  "orig_nbformat": 4,
  "vscode": {
   "interpreter": {
    "hash": "ae2d3659b3684f688dcecafa70fc576f1d22112b75078f64f7d72a545140f712"
   }
  }
 },
 "nbformat": 4,
 "nbformat_minor": 2
}
