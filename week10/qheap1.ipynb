{
 "cells": [
  {
   "cell_type": "code",
   "execution_count": 188,
   "metadata": {},
   "outputs": [],
   "source": [
    "import math\n",
    "\n",
    "\n",
    "class min_heap:\n",
    "    def __init__(self):\n",
    "        self._heap = []\n",
    "        \n",
    "    \n",
    "    def print_min(self):\n",
    "        print(self._heap[0])\n",
    "        \n",
    "\n",
    "    def add(self, v: int) -> None:\n",
    "        self._heap.append(v)\n",
    "        self.heap_up(len(self._heap) - 1)\n",
    "    \n",
    "\n",
    "    def heap_up(self, i: int) -> None:\n",
    "        parent = (i - 2) // 2 if i % 2 == 0 else (i - 1) // 2\n",
    "\n",
    "        while parent >= 0 and self._heap[i] < self._heap[parent]:\n",
    "            self._heap[i], self._heap[parent] = self._heap[parent], self._heap[i]\n",
    "            i = parent\n",
    "            parent = (i - 2) // 2 if i % 2 == 0 else (i - 1) // 2\n",
    "    \n",
    "\n",
    "    def remove(self, v: int) -> None:\n",
    "        if len(self._heap) == 1: \n",
    "            self._heap.pop()\n",
    "            return\n",
    "            \n",
    "        i = self._heap.index(v)\n",
    "        \n",
    "        self._heap[i], self._heap[-1] = self._heap[-1], self._heap[i]\n",
    "        self._heap.pop()\n",
    "        self.heap_down(i)\n",
    "\n",
    "    \n",
    "    def heap_down(self, i: int) -> None:\n",
    "        largest = i\n",
    "        left = i * 2 + 1\n",
    "        right = i * 2 + 2\n",
    "        if left < len(self._heap) and self._heap[left] < self._heap[largest]:\n",
    "            largest = left\n",
    "        \n",
    "        if right < len(self._heap) and self._heap[right] < self._heap[largest]:\n",
    "            largest = right\n",
    "        \n",
    "        if largest != i:\n",
    "            self._heap[i], self._heap[largest] = self._heap[largest], self._heap[i]\n",
    "            self.heap_down(largest)\n"
   ]
  },
  {
   "cell_type": "code",
   "execution_count": 189,
   "metadata": {},
   "outputs": [],
   "source": [
    "he = min_heap()"
   ]
  },
  {
   "cell_type": "code",
   "execution_count": 190,
   "metadata": {},
   "outputs": [
    {
     "data": {
      "text/plain": [
       "(None, None)"
      ]
     },
     "execution_count": 190,
     "metadata": {},
     "output_type": "execute_result"
    }
   ],
   "source": [
    "he.add(3), he.add(65)"
   ]
  },
  {
   "cell_type": "code",
   "execution_count": 194,
   "metadata": {},
   "outputs": [],
   "source": [
    "he.remove(65)"
   ]
  },
  {
   "cell_type": "code",
   "execution_count": 195,
   "metadata": {},
   "outputs": [
    {
     "data": {
      "text/plain": [
       "[]"
      ]
     },
     "execution_count": 195,
     "metadata": {},
     "output_type": "execute_result"
    }
   ],
   "source": [
    "he._heap"
   ]
  },
  {
   "cell_type": "code",
   "execution_count": 110,
   "metadata": {},
   "outputs": [],
   "source": [
    "he.remove(1)"
   ]
  }
 ],
 "metadata": {
  "kernelspec": {
   "display_name": ".venv",
   "language": "python",
   "name": "python3"
  },
  "language_info": {
   "codemirror_mode": {
    "name": "ipython",
    "version": 3
   },
   "file_extension": ".py",
   "mimetype": "text/x-python",
   "name": "python",
   "nbconvert_exporter": "python",
   "pygments_lexer": "ipython3",
   "version": "3.10.9"
  },
  "orig_nbformat": 4,
  "vscode": {
   "interpreter": {
    "hash": "ae2d3659b3684f688dcecafa70fc576f1d22112b75078f64f7d72a545140f712"
   }
  }
 },
 "nbformat": 4,
 "nbformat_minor": 2
}
