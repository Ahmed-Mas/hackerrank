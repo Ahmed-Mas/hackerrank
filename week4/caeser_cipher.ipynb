{
 "cells": [
  {
   "cell_type": "code",
   "execution_count": 1,
   "metadata": {},
   "outputs": [],
   "source": [
    "from string import ascii_lowercase"
   ]
  },
  {
   "cell_type": "code",
   "execution_count": 2,
   "metadata": {},
   "outputs": [
    {
     "data": {
      "text/plain": [
       "'abcdefghijklmnopqrstuvwxyz'"
      ]
     },
     "execution_count": 2,
     "metadata": {},
     "output_type": "execute_result"
    }
   ],
   "source": [
    "ascii_lowercase"
   ]
  },
  {
   "cell_type": "code",
   "execution_count": 35,
   "metadata": {},
   "outputs": [
    {
     "data": {
      "text/plain": [
       "3"
      ]
     },
     "execution_count": 35,
     "metadata": {},
     "output_type": "execute_result"
    }
   ],
   "source": [
    "(26 + 3 + 26) % len(ascii_lowercase)"
   ]
  },
  {
   "cell_type": "code",
   "execution_count": 40,
   "metadata": {},
   "outputs": [],
   "source": [
    "cipher = {ascii_lowercase[i]:ascii_lowercase[(i + 3 + 26) % 26] for i in range(len(ascii_lowercase))}"
   ]
  },
  {
   "cell_type": "code",
   "execution_count": 38,
   "metadata": {},
   "outputs": [],
   "source": [
    "s = 'There\\'s-a-starman-waiting-in-the-sky'"
   ]
  },
  {
   "cell_type": "code",
   "execution_count": 46,
   "metadata": {},
   "outputs": [
    {
     "name": "stdout",
     "output_type": "stream",
     "text": [
      "Wkhuh'v-d-vwdupdq-zdlwlqj-lq-wkh-vnb\n"
     ]
    }
   ],
   "source": [
    "res = ''\n",
    "for c in s:\n",
    "    is_upper = c.isupper()\n",
    "    letter = cipher.get(c.lower(), False)\n",
    "\n",
    "    if letter: \n",
    "        if is_upper: res += letter.upper()\n",
    "        else: res += letter\n",
    "    else: \n",
    "        res += c\n",
    "print(res)"
   ]
  },
  {
   "cell_type": "code",
   "execution_count": 49,
   "metadata": {},
   "outputs": [
    {
     "data": {
      "text/plain": [
       "True"
      ]
     },
     "execution_count": 49,
     "metadata": {},
     "output_type": "execute_result"
    }
   ],
   "source": [
    "'a'.isalpha()"
   ]
  },
  {
   "cell_type": "code",
   "execution_count": null,
   "metadata": {},
   "outputs": [],
   "source": [
    "def caesarCipher(s: str, k: int) -> str:\n",
    "    # Write your code here\n",
    "    cipher = {ascii_lowercase[i]:ascii_lowercase[(i + k + 26) % 26] for i in range(len(ascii_lowercase))}\n",
    "    \n",
    "    res = ''\n",
    "    for c in s:\n",
    "        if not c.isalpha(): res += c\n",
    "        \n",
    "        letter = cipher.get(c.lower(), '')\n",
    "\n",
    "        if c.isupper(): res += letter.upper()\n",
    "        else: res += letter\n",
    "    return res"
   ]
  }
 ],
 "metadata": {
  "kernelspec": {
   "display_name": ".venv",
   "language": "python",
   "name": "python3"
  },
  "language_info": {
   "codemirror_mode": {
    "name": "ipython",
    "version": 3
   },
   "file_extension": ".py",
   "mimetype": "text/x-python",
   "name": "python",
   "nbconvert_exporter": "python",
   "pygments_lexer": "ipython3",
   "version": "3.10.9"
  },
  "orig_nbformat": 4,
  "vscode": {
   "interpreter": {
    "hash": "ae2d3659b3684f688dcecafa70fc576f1d22112b75078f64f7d72a545140f712"
   }
  }
 },
 "nbformat": 4,
 "nbformat_minor": 2
}
