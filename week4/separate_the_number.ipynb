{
 "cells": [
  {
   "cell_type": "code",
   "execution_count": 13,
   "metadata": {},
   "outputs": [],
   "source": [
    "s = '240'"
   ]
  },
  {
   "cell_type": "code",
   "execution_count": 2,
   "metadata": {},
   "outputs": [
    {
     "data": {
      "text/plain": [
       "'1234'"
      ]
     },
     "execution_count": 2,
     "metadata": {},
     "output_type": "execute_result"
    }
   ],
   "source": [
    "s"
   ]
  },
  {
   "cell_type": "code",
   "execution_count": 3,
   "metadata": {},
   "outputs": [
    {
     "name": "stdout",
     "output_type": "stream",
     "text": [
      "1\n",
      "2\n",
      "3\n",
      "4\n"
     ]
    }
   ],
   "source": [
    "for i in range(len(s)):\n",
    "    print(int(s[i]))\n"
   ]
  },
  {
   "cell_type": "code",
   "execution_count": 14,
   "metadata": {},
   "outputs": [
    {
     "name": "stdout",
     "output_type": "stream",
     "text": [
      "no\n"
     ]
    }
   ],
   "source": [
    "for i in range(1, len(s)):\n",
    "    head = s[:i]\n",
    "    \n",
    "    cur_str = head\n",
    "    prev = int(head)\n",
    "    while len(cur_str) < len(s):\n",
    "        nxt = prev + 1\n",
    "        cur_str += str(nxt)\n",
    "        prev = nxt\n",
    "    if cur_str == s:\n",
    "        print('yes')\n",
    "        # return\n",
    "print('no')"
   ]
  },
  {
   "cell_type": "code",
   "execution_count": null,
   "metadata": {},
   "outputs": [],
   "source": [
    "# looked up the answer, couldnt come up with an algo that works\n",
    "def separateNumbers(s: str) -> None:\n",
    "    # Write your code here\n",
    "    for i in range(1, len(s)):\n",
    "        head = s[:i]\n",
    "        \n",
    "        cur_str = head\n",
    "        prev = int(head)\n",
    "        while len(cur_str) < len(s):\n",
    "            nxt = prev + 1\n",
    "            cur_str += str(nxt)\n",
    "            prev = nxt\n",
    "        if cur_str == s:\n",
    "            print(f'YES {head}')\n",
    "            return\n",
    "    print('NO')"
   ]
  }
 ],
 "metadata": {
  "kernelspec": {
   "display_name": ".venv",
   "language": "python",
   "name": "python3"
  },
  "language_info": {
   "codemirror_mode": {
    "name": "ipython",
    "version": 3
   },
   "file_extension": ".py",
   "mimetype": "text/x-python",
   "name": "python",
   "nbconvert_exporter": "python",
   "pygments_lexer": "ipython3",
   "version": "3.10.9"
  },
  "orig_nbformat": 4,
  "vscode": {
   "interpreter": {
    "hash": "ae2d3659b3684f688dcecafa70fc576f1d22112b75078f64f7d72a545140f712"
   }
  }
 },
 "nbformat": 4,
 "nbformat_minor": 2
}
