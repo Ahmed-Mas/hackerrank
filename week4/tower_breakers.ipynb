{
 "cells": [
  {
   "cell_type": "code",
   "execution_count": 27,
   "metadata": {},
   "outputs": [],
   "source": [
    "n = 2\n",
    "m = 2"
   ]
  },
  {
   "cell_type": "code",
   "execution_count": 107,
   "metadata": {},
   "outputs": [
    {
     "data": {
      "text/plain": [
       "1"
      ]
     },
     "execution_count": 107,
     "metadata": {},
     "output_type": "execute_result"
    }
   ],
   "source": [
    "2 - (1 % 2)"
   ]
  },
  {
   "cell_type": "code",
   "execution_count": 2,
   "metadata": {},
   "outputs": [
    {
     "data": {
      "text/plain": [
       "[6, 6]"
      ]
     },
     "execution_count": 2,
     "metadata": {},
     "output_type": "execute_result"
    }
   ],
   "source": [
    "[m for _ in range(n)]"
   ]
  },
  {
   "cell_type": "code",
   "execution_count": 25,
   "metadata": {},
   "outputs": [
    {
     "name": "stdout",
     "output_type": "stream",
     "text": [
      "[4] 2\n",
      "1\n"
     ]
    }
   ],
   "source": [
    "towers = [m for _ in range(n)]\n",
    "nxt_player = 2\n",
    "while towers:\n",
    "    print(towers, nxt_player)\n",
    "    if len(towers) == 1: towers.pop()\n",
    "\n",
    "    else:\n",
    "        for idx in range(len(towers)):\n",
    "            if towers[idx] != max(towers): continue\n",
    "\n",
    "            for levels in range(towers[idx] - 1, 0, -1):\n",
    "                if towers[idx] % levels == 0:\n",
    "                    towers[idx] = levels\n",
    "                    break\n",
    "            \n",
    "        if towers[idx] == 1:\n",
    "            towers.pop(idx)\n",
    "\n",
    "    nxt_player = 2 if nxt_player == 1 else 1\n",
    "\n",
    "print(nxt_player)"
   ]
  },
  {
   "cell_type": "code",
   "execution_count": 9,
   "metadata": {},
   "outputs": [
    {
     "data": {
      "text/plain": [
       "0"
      ]
     },
     "execution_count": 9,
     "metadata": {},
     "output_type": "execute_result"
    }
   ],
   "source": [
    "2 % 1"
   ]
  },
  {
   "cell_type": "markdown",
   "metadata": {},
   "source": [
    "I had to look up the answer to this one. Seems like if theres an odd number of towers, 1 is def going to win"
   ]
  },
  {
   "cell_type": "code",
   "execution_count": 28,
   "metadata": {},
   "outputs": [
    {
     "name": "stdout",
     "output_type": "stream",
     "text": [
      "2\n"
     ]
    }
   ],
   "source": [
    "def towerBreakers(n: int, m: int) -> int:\n",
    "    # Write your code here\n",
    "    if m == 1: return 2\n",
    "    elif n % 2 == 1: return 1\n",
    "    else: return 2"
   ]
  }
 ],
 "metadata": {
  "kernelspec": {
   "display_name": ".venv",
   "language": "python",
   "name": "python3"
  },
  "language_info": {
   "codemirror_mode": {
    "name": "ipython",
    "version": 3
   },
   "file_extension": ".py",
   "mimetype": "text/x-python",
   "name": "python",
   "nbconvert_exporter": "python",
   "pygments_lexer": "ipython3",
   "version": "3.10.9"
  },
  "orig_nbformat": 4,
  "vscode": {
   "interpreter": {
    "hash": "ae2d3659b3684f688dcecafa70fc576f1d22112b75078f64f7d72a545140f712"
   }
  }
 },
 "nbformat": 4,
 "nbformat_minor": 2
}
