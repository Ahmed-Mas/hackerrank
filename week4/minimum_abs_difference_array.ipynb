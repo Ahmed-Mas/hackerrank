{
 "cells": [
  {
   "cell_type": "code",
   "execution_count": 15,
   "metadata": {},
   "outputs": [],
   "source": [
    "from math import inf"
   ]
  },
  {
   "cell_type": "code",
   "execution_count": 21,
   "metadata": {},
   "outputs": [
    {
     "name": "stdout",
     "output_type": "stream",
     "text": [
      "14\n"
     ]
    }
   ],
   "source": [
    "arr = [-59, -36, -13, 1, -53, -92, -2, -96, -54, 75]\n",
    "\n",
    "cur_min = max(arr)\n",
    "for i in range(len(arr) - 1):\n",
    "    cur_min = min(cur_min, abs(arr[i] - arr[i + 1]))\n",
    "print(cur_min)"
   ]
  },
  {
   "cell_type": "code",
   "execution_count": 23,
   "metadata": {},
   "outputs": [
    {
     "name": "stdout",
     "output_type": "stream",
     "text": [
      "1\n"
     ]
    }
   ],
   "source": [
    "cur_min = inf\n",
    "arr.sort()\n",
    "for i in range(len(arr) - 1):\n",
    "    cur_min = min(cur_min, abs(arr[i] - arr[i - 1]))\n",
    "print(cur_min)"
   ]
  },
  {
   "cell_type": "code",
   "execution_count": null,
   "metadata": {},
   "outputs": [],
   "source": [
    "def minimumAbsoluteDifference(arr: list[int]) -> int:\n",
    "    # Write your code here\n",
    "    cur_min = inf\n",
    "    arr.sort()\n",
    "    for i in range(len(arr) - 1):\n",
    "        cur_min = min(cur_min, abs(arr[i] - arr[i + 1]))\n",
    "    return cur_min"
   ]
  }
 ],
 "metadata": {
  "kernelspec": {
   "display_name": ".venv",
   "language": "python",
   "name": "python3"
  },
  "language_info": {
   "codemirror_mode": {
    "name": "ipython",
    "version": 3
   },
   "file_extension": ".py",
   "mimetype": "text/x-python",
   "name": "python",
   "nbconvert_exporter": "python",
   "pygments_lexer": "ipython3",
   "version": "3.10.9"
  },
  "orig_nbformat": 4,
  "vscode": {
   "interpreter": {
    "hash": "ae2d3659b3684f688dcecafa70fc576f1d22112b75078f64f7d72a545140f712"
   }
  }
 },
 "nbformat": 4,
 "nbformat_minor": 2
}
