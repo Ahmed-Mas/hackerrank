{
 "cells": [
  {
   "cell_type": "code",
   "execution_count": 1,
   "metadata": {},
   "outputs": [],
   "source": [
    "arr = [1,2,3,4,5]"
   ]
  },
  {
   "cell_type": "code",
   "execution_count": 6,
   "metadata": {},
   "outputs": [
    {
     "name": "stdout",
     "output_type": "stream",
     "text": [
      "1\n",
      "[1, 2, 2, 3, 3, 4, 4, 5]\n"
     ]
    }
   ],
   "source": [
    "arr.sort()\n",
    "\n",
    "smallest_diff = max(arr)\n",
    "for i in range(len(arr) - 1):\n",
    "    smallest_diff = min(smallest_diff, arr[i + 1] - arr[i])\n",
    "\n",
    "res = []\n",
    "for i in range(len(arr) - 1):\n",
    "    if arr[i + 1] - arr[i] == smallest_diff:\n",
    "        res.append(arr[i])\n",
    "        res.append(arr[i + 1])\n",
    "\n",
    "print(smallest_diff)\n",
    "print(res)"
   ]
  },
  {
   "cell_type": "code",
   "execution_count": null,
   "metadata": {},
   "outputs": [],
   "source": [
    "def closestNumbers(arr: list[int]) -> list[int]:\n",
    "    # Write your code here\n",
    "    arr.sort()\n",
    "\n",
    "    smallest_diff = max(arr)\n",
    "    for i in range(len(arr) - 1):\n",
    "        smallest_diff = min(smallest_diff, arr[i + 1] - arr[i])\n",
    "\n",
    "    res = []\n",
    "    for i in range(len(arr) - 1):\n",
    "        if arr[i + 1] - arr[i] == smallest_diff:\n",
    "            res.append(arr[i])\n",
    "            res.append(arr[i + 1])\n",
    "    return res"
   ]
  }
 ],
 "metadata": {
  "kernelspec": {
   "display_name": ".venv",
   "language": "python",
   "name": "python3"
  },
  "language_info": {
   "codemirror_mode": {
    "name": "ipython",
    "version": 3
   },
   "file_extension": ".py",
   "mimetype": "text/x-python",
   "name": "python",
   "nbconvert_exporter": "python",
   "pygments_lexer": "ipython3",
   "version": "3.10.9"
  },
  "orig_nbformat": 4,
  "vscode": {
   "interpreter": {
    "hash": "ae2d3659b3684f688dcecafa70fc576f1d22112b75078f64f7d72a545140f712"
   }
  }
 },
 "nbformat": 4,
 "nbformat_minor": 2
}
