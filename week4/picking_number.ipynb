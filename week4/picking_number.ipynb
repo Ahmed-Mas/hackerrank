{
 "cells": [
  {
   "cell_type": "code",
   "execution_count": 19,
   "metadata": {},
   "outputs": [],
   "source": [
    "a = [1,1,2,2,4,4,5,5,5]"
   ]
  },
  {
   "cell_type": "code",
   "execution_count": 20,
   "metadata": {},
   "outputs": [],
   "source": [
    "a.sort()"
   ]
  },
  {
   "cell_type": "code",
   "execution_count": 26,
   "metadata": {},
   "outputs": [
    {
     "name": "stdout",
     "output_type": "stream",
     "text": [
      "5\n"
     ]
    }
   ],
   "source": [
    "s = 0\n",
    "e = s + 1\n",
    "\n",
    "cur_longest = 0\n",
    "while e < len(a):\n",
    "    temp_longest = 0\n",
    "    while e < len(a) and a[e] - a[s] <= 1: \n",
    "        temp_longest += 1\n",
    "        e += 1\n",
    "        \n",
    "    if temp_longest > cur_longest: \n",
    "        cur_longest = temp_longest\n",
    "    s = e\n",
    "    e += 1\n",
    "\n",
    "if cur_longest: print(cur_longest + 1)\n",
    "else: print(cur_longest)\n",
    "    \n"
   ]
  },
  {
   "cell_type": "code",
   "execution_count": null,
   "metadata": {},
   "outputs": [],
   "source": [
    "def pickingNumbers(a: list[int]) -> int:\n",
    "    # Write your code here\n",
    "    a.sort()\n",
    "    s = 0\n",
    "    e = s + 1\n",
    "\n",
    "    cur_longest = 0\n",
    "    while e < len(a):\n",
    "        temp_longest = 0\n",
    "        while e < len(a) and a[e] - a[s] <= 1: \n",
    "            temp_longest += 1\n",
    "            e += 1\n",
    "            \n",
    "        if temp_longest > cur_longest: \n",
    "            cur_longest = temp_longest\n",
    "        s = e\n",
    "        e += 1\n",
    "\n",
    "    return cur_longest + 1 if cur_longest else cur_longest"
   ]
  }
 ],
 "metadata": {
  "kernelspec": {
   "display_name": ".venv",
   "language": "python",
   "name": "python3"
  },
  "language_info": {
   "codemirror_mode": {
    "name": "ipython",
    "version": 3
   },
   "file_extension": ".py",
   "mimetype": "text/x-python",
   "name": "python",
   "nbconvert_exporter": "python",
   "pygments_lexer": "ipython3",
   "version": "3.10.9"
  },
  "orig_nbformat": 4,
  "vscode": {
   "interpreter": {
    "hash": "ae2d3659b3684f688dcecafa70fc576f1d22112b75078f64f7d72a545140f712"
   }
  }
 },
 "nbformat": 4,
 "nbformat_minor": 2
}
