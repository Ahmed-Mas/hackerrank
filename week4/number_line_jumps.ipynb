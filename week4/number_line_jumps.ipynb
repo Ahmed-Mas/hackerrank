{
 "cells": [
  {
   "cell_type": "code",
   "execution_count": 14,
   "metadata": {},
   "outputs": [],
   "source": [
    "x1 = 0\n",
    "v1 = 3\n",
    "\n",
    "x2 = 4\n",
    "v2 = 2"
   ]
  },
  {
   "cell_type": "code",
   "execution_count": 9,
   "metadata": {},
   "outputs": [
    {
     "data": {
      "text/plain": [
       "[0, 3, 6, 9, 12, 15, 18, 21, 24, 27]"
      ]
     },
     "execution_count": 9,
     "metadata": {},
     "output_type": "execute_result"
    }
   ],
   "source": [
    "cow = []\n",
    "for _ in range(x1, 10):\n",
    "    cow.append(x1)\n",
    "    x1 += v1\n",
    "cow"
   ]
  },
  {
   "cell_type": "code",
   "execution_count": 10,
   "metadata": {},
   "outputs": [
    {
     "data": {
      "text/plain": [
       "[4, 6, 8, 10, 12, 14]"
      ]
     },
     "execution_count": 10,
     "metadata": {},
     "output_type": "execute_result"
    }
   ],
   "source": [
    "cow2 = []\n",
    "for _ in range(x2, 10):\n",
    "    cow2.append(x2)\n",
    "    x2 += v2\n",
    "cow2"
   ]
  },
  {
   "cell_type": "code",
   "execution_count": 21,
   "metadata": {},
   "outputs": [
    {
     "name": "stdout",
     "output_type": "stream",
     "text": [
      "YES\n",
      "NO\n"
     ]
    }
   ],
   "source": [
    "if x1 == x2: print('YES')\n",
    "\n",
    "if x1 < x2:\n",
    "    smaller = x1\n",
    "    smallers_v = v1\n",
    "\n",
    "    larger = x2\n",
    "    largers_v = v2\n",
    "else:\n",
    "    smaller = x2\n",
    "    smallers_v = v2\n",
    "\n",
    "    larger = x1\n",
    "    largers_v = v1\n",
    "\n",
    "\n",
    "total_diff = larger - smaller\n",
    "\n",
    "while smaller < larger:\n",
    "    smaller += smallers_v\n",
    "    larger += largers_v\n",
    "\n",
    "    if smaller == larger:\n",
    "        print('YES')\n",
    "        break\n",
    "\n",
    "print('NO')"
   ]
  },
  {
   "cell_type": "code",
   "execution_count": 22,
   "metadata": {},
   "outputs": [],
   "source": [
    "def kangaroo(x1: int, v1: int, x2: int, v2: int) -> str:\n",
    "    # Write your code here\n",
    "    if x1 == x2: return 'YES'\n",
    "\n",
    "    if abs((x1 + v1) - (x2 + v2)) >= abs(x1 - x2): return 'NO'  # if after 1 step they're farther apart, they'll never intersect\n",
    "\n",
    "    if x1 < x2:\n",
    "        smaller_x, smaller_v = x1, v1\n",
    "        larger_x, larger_v = x2, v2\n",
    "    else:\n",
    "        smaller_x, smaller_v = x2, v2\n",
    "        larger_x, larger_v = x1, v1\n",
    "    \n",
    "    while smaller_x < larger_x:\n",
    "        smaller_x += smaller_v\n",
    "        larger_x += larger_v\n",
    "        if smaller_x == larger_x:\n",
    "            return 'YES'\n",
    "    return 'NO'\n"
   ]
  },
  {
   "cell_type": "code",
   "execution_count": 23,
   "metadata": {},
   "outputs": [
    {
     "data": {
      "text/plain": [
       "'YES'"
      ]
     },
     "execution_count": 23,
     "metadata": {},
     "output_type": "execute_result"
    }
   ],
   "source": [
    "kangaroo(0, 3, 4, 2)"
   ]
  },
  {
   "cell_type": "code",
   "execution_count": null,
   "metadata": {},
   "outputs": [],
   "source": []
  }
 ],
 "metadata": {
  "kernelspec": {
   "display_name": ".venv",
   "language": "python",
   "name": "python3"
  },
  "language_info": {
   "codemirror_mode": {
    "name": "ipython",
    "version": 3
   },
   "file_extension": ".py",
   "mimetype": "text/x-python",
   "name": "python",
   "nbconvert_exporter": "python",
   "pygments_lexer": "ipython3",
   "version": "3.10.9"
  },
  "orig_nbformat": 4,
  "vscode": {
   "interpreter": {
    "hash": "ae2d3659b3684f688dcecafa70fc576f1d22112b75078f64f7d72a545140f712"
   }
  }
 },
 "nbformat": 4,
 "nbformat_minor": 2
}
