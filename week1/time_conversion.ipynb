{
 "cells": [
  {
   "cell_type": "code",
   "execution_count": 1,
   "metadata": {},
   "outputs": [],
   "source": [
    "s = '07:05:45PM'"
   ]
  },
  {
   "cell_type": "code",
   "execution_count": 2,
   "metadata": {},
   "outputs": [
    {
     "name": "stdout",
     "output_type": "stream",
     "text": [
      "19:05:45\n"
     ]
    }
   ],
   "source": [
    "hh = int(s[:2])\n",
    "am_pm = s[-2:]\n",
    "\n",
    "if hh == 12 and am_pm == 'AM':\n",
    "    hh = 0\n",
    "elif hh != 12 and am_pm == 'PM':\n",
    "    hh += 12\n",
    "    \n",
    "print(f'{hh:02d}' + s[2:-2])"
   ]
  },
  {
   "cell_type": "code",
   "execution_count": null,
   "metadata": {},
   "outputs": [],
   "source": [
    "def timeConversion(s: str) -> str:\n",
    "    # Write your code here\n",
    "    hh = int(s[:2])\n",
    "    am_pm = s[-2:]\n",
    "    \n",
    "    if hh == 12 and am_pm == 'AM':\n",
    "        hh = 0\n",
    "    elif hh != 12 and am_pm == 'PM':\n",
    "        hh += 12\n",
    "        \n",
    "    return f'{hh:02d}' + s[2:-2]"
   ]
  }
 ],
 "metadata": {
  "kernelspec": {
   "display_name": ".venv",
   "language": "python",
   "name": "python3"
  },
  "language_info": {
   "codemirror_mode": {
    "name": "ipython",
    "version": 3
   },
   "file_extension": ".py",
   "mimetype": "text/x-python",
   "name": "python",
   "nbconvert_exporter": "python",
   "pygments_lexer": "ipython3",
   "version": "3.10.9"
  },
  "orig_nbformat": 4,
  "vscode": {
   "interpreter": {
    "hash": "ae2d3659b3684f688dcecafa70fc576f1d22112b75078f64f7d72a545140f712"
   }
  }
 },
 "nbformat": 4,
 "nbformat_minor": 2
}
