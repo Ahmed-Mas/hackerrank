{
 "cells": [
  {
   "cell_type": "code",
   "execution_count": 3,
   "metadata": {},
   "outputs": [],
   "source": [
    "arr = [-4, 3, -9, 0, 4, 1]"
   ]
  },
  {
   "cell_type": "code",
   "execution_count": 4,
   "metadata": {},
   "outputs": [
    {
     "name": "stdout",
     "output_type": "stream",
     "text": [
      "0.500000\n",
      "0.333333\n",
      "0.166667\n"
     ]
    }
   ],
   "source": [
    "\n",
    "posNums = negNums = zeros = 0\n",
    "    \n",
    "for n in arr:\n",
    "    if n == 0:\n",
    "        zeros += 1\n",
    "    elif n > 0:\n",
    "        posNums += 1\n",
    "    elif n < 0:\n",
    "        negNums += 1\n",
    "\n",
    "print(\"{:.6f}\".format(posNums / len(arr)))\n",
    "print(\"{:.6f}\".format(negNums / len(arr)))\n",
    "print(\"{:.6f}\".format(zeros / len(arr)))"
   ]
  },
  {
   "cell_type": "code",
   "execution_count": null,
   "metadata": {},
   "outputs": [],
   "source": [
    "def plusMinus(arr: list[int]) -> None:\n",
    "    # Write your code here\n",
    "    posNums = negNums = zeros = 0\n",
    "    \n",
    "    for n in arr:\n",
    "        if n == 0:\n",
    "            zeros += 1\n",
    "        elif n > 0:\n",
    "            posNums += 1\n",
    "        elif n < 0:\n",
    "            negNums += 1\n",
    "    \n",
    "    print(\"{:.6f}\".format(posNums / len(arr)))\n",
    "    print(\"{:.6f}\".format(negNums / len(arr)))\n",
    "    print(\"{:.6f}\".format(zeros / len(arr)))"
   ]
  }
 ],
 "metadata": {
  "kernelspec": {
   "display_name": ".venv",
   "language": "python",
   "name": "python3"
  },
  "language_info": {
   "codemirror_mode": {
    "name": "ipython",
    "version": 3
   },
   "file_extension": ".py",
   "mimetype": "text/x-python",
   "name": "python",
   "nbconvert_exporter": "python",
   "pygments_lexer": "ipython3",
   "version": "3.10.9"
  },
  "orig_nbformat": 4,
  "vscode": {
   "interpreter": {
    "hash": "ae2d3659b3684f688dcecafa70fc576f1d22112b75078f64f7d72a545140f712"
   }
  }
 },
 "nbformat": 4,
 "nbformat_minor": 2
}
