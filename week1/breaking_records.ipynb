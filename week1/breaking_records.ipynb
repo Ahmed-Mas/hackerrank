{
 "cells": [
  {
   "cell_type": "code",
   "execution_count": 1,
   "metadata": {},
   "outputs": [],
   "source": [
    "from typing import List"
   ]
  },
  {
   "cell_type": "code",
   "execution_count": 1,
   "metadata": {},
   "outputs": [],
   "source": [
    "scores = [10, 5, 20, 20, 4, 5, 2, 25, 1]"
   ]
  },
  {
   "cell_type": "code",
   "execution_count": 2,
   "metadata": {},
   "outputs": [
    {
     "name": "stdout",
     "output_type": "stream",
     "text": [
      "[2, 4]\n"
     ]
    }
   ],
   "source": [
    "max_score = min_score = scores[0]\n",
    "max_breaks = min_breaks = 0\n",
    "\n",
    "for score in scores:\n",
    "    if score > max_score:\n",
    "        max_breaks += 1\n",
    "        max_score = score\n",
    "    elif score < min_score:\n",
    "        min_breaks += 1\n",
    "        min_score = score\n",
    "        \n",
    "print([max_breaks, min_breaks])"
   ]
  },
  {
   "cell_type": "code",
   "execution_count": 2,
   "metadata": {},
   "outputs": [],
   "source": [
    "def breakingRecords(scores: List[int]) -> List[int]:\n",
    "    # Write your code here\n",
    "    max_score = min_score = scores[0]\n",
    "    max_breaks = min_breaks = 0\n",
    "    \n",
    "    for score in scores:\n",
    "        if score > max_score:\n",
    "            max_breaks += 1\n",
    "            max_score = score\n",
    "        elif score < min_score:\n",
    "            min_breaks += 1\n",
    "            min_score = score\n",
    "            \n",
    "    return [max_breaks, min_breaks]"
   ]
  },
  {
   "cell_type": "code",
   "execution_count": null,
   "metadata": {},
   "outputs": [],
   "source": []
  }
 ],
 "metadata": {
  "kernelspec": {
   "display_name": ".venv",
   "language": "python",
   "name": "python3"
  },
  "language_info": {
   "codemirror_mode": {
    "name": "ipython",
    "version": 3
   },
   "file_extension": ".py",
   "mimetype": "text/x-python",
   "name": "python",
   "nbconvert_exporter": "python",
   "pygments_lexer": "ipython3",
   "version": "3.10.9"
  },
  "orig_nbformat": 4,
  "vscode": {
   "interpreter": {
    "hash": "ae2d3659b3684f688dcecafa70fc576f1d22112b75078f64f7d72a545140f712"
   }
  }
 },
 "nbformat": 4,
 "nbformat_minor": 2
}
