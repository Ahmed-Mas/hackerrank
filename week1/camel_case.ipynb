{
 "cells": [
  {
   "cell_type": "code",
   "execution_count": 105,
   "metadata": {},
   "outputs": [],
   "source": [
    "import re, sys\n",
    "SPLIT_RE = re.compile('[A-Za-z][^A-Z]*')\n"
   ]
  },
  {
   "cell_type": "code",
   "execution_count": 48,
   "metadata": {},
   "outputs": [],
   "source": [
    "def split_func(words: str) -> str:\n",
    "    word = SPLIT_RE.findall(words)\n",
    "    word = ' '.join(word)\n",
    "    word = word.lower()\n",
    "    word = word.rstrip('()')\n",
    "    return word"
   ]
  },
  {
   "cell_type": "code",
   "execution_count": 49,
   "metadata": {},
   "outputs": [
    {
     "data": {
      "text/plain": [
       "('coffee cup', 'coffee cup')"
      ]
     },
     "execution_count": 49,
     "metadata": {},
     "output_type": "execute_result"
    }
   ],
   "source": [
    "split_func('M', 'CoffeeCup()'), split_func('coffeeCup')"
   ]
  },
  {
   "cell_type": "code",
   "execution_count": 103,
   "metadata": {},
   "outputs": [],
   "source": [
    "def combine_func(word_type: str, words: str) -> str:\n",
    "    word = words.title()\n",
    "    if word_type != 'C':\n",
    "        word = word[0].lower() + word[1:]\n",
    "    if word_type == 'M':\n",
    "        word = word + '()'\n",
    "    word = word.replace(' ', '')\n",
    "    return word\n",
    "    "
   ]
  },
  {
   "cell_type": "code",
   "execution_count": 104,
   "metadata": {},
   "outputs": [
    {
     "data": {
      "text/plain": [
       "('CoffeeCup', 'mobilePhone', 'whiteSheetOfPaper()')"
      ]
     },
     "execution_count": 104,
     "metadata": {},
     "output_type": "execute_result"
    }
   ],
   "source": [
    "combine_func('C', 'coffee cup'), combine_func('V', 'mobile phone'), combine_func('M', 'white sheet of paper')"
   ]
  },
  {
   "cell_type": "code",
   "execution_count": null,
   "metadata": {},
   "outputs": [],
   "source": [
    "def split_combine(operation: str, word_type: str, words: str) -> str:\n",
    "    if operation == 'C':\n",
    "        return combine_func(word_type, words)\n",
    "        \n",
    "    elif operation == 'S':\n",
    "        return split_func(words)\n",
    "\n",
    "        \n",
    "if __name__ == '__main__':\n",
    "    for line in sys.stdin:\n",
    "        line = line.rstrip('\\r\\n')  # watch return and newline\n",
    "        operation, word_type, words = line.split(';')\n",
    "        print(split_combine(operation, word_type, words))"
   ]
  },
  {
   "cell_type": "code",
   "execution_count": null,
   "metadata": {},
   "outputs": [],
   "source": []
  }
 ],
 "metadata": {
  "kernelspec": {
   "display_name": ".venv",
   "language": "python",
   "name": "python3"
  },
  "language_info": {
   "codemirror_mode": {
    "name": "ipython",
    "version": 3
   },
   "file_extension": ".py",
   "mimetype": "text/x-python",
   "name": "python",
   "nbconvert_exporter": "python",
   "pygments_lexer": "ipython3",
   "version": "3.10.9"
  },
  "orig_nbformat": 4,
  "vscode": {
   "interpreter": {
    "hash": "ae2d3659b3684f688dcecafa70fc576f1d22112b75078f64f7d72a545140f712"
   }
  }
 },
 "nbformat": 4,
 "nbformat_minor": 2
}
