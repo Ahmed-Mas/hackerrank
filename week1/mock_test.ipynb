{
 "cells": [
  {
   "cell_type": "code",
   "execution_count": null,
   "metadata": {},
   "outputs": [],
   "source": [
    "def findMedian(arr: list[int]) -> int:\n",
    "    # Write your code here\n",
    "    arr.sort()\n",
    "    return arr[len(arr) // 2]"
   ]
  }
 ],
 "metadata": {
  "language_info": {
   "name": "python"
  },
  "orig_nbformat": 4
 },
 "nbformat": 4,
 "nbformat_minor": 2
}
