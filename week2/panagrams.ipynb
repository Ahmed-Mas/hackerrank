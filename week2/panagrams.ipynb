{
 "cells": [
  {
   "cell_type": "code",
   "execution_count": 1,
   "metadata": {},
   "outputs": [],
   "source": [
    "from string import ascii_lowercase"
   ]
  },
  {
   "cell_type": "code",
   "execution_count": 6,
   "metadata": {},
   "outputs": [],
   "source": [
    "s = 'We promptly judged antique ivory buckles for the next prize'"
   ]
  },
  {
   "cell_type": "code",
   "execution_count": 15,
   "metadata": {},
   "outputs": [],
   "source": [
    "counter = {k:v for k, v in zip(ascii_lowercase, [0]* 26)}\n",
    "\n",
    "for c in s:\n",
    "    if not c.isalpha or c.isspace(): continue\n",
    "    counter[c.lower()] += 1"
   ]
  },
  {
   "cell_type": "code",
   "execution_count": 20,
   "metadata": {},
   "outputs": [],
   "source": [
    "if 0 in counter.values(): print(False)"
   ]
  },
  {
   "cell_type": "code",
   "execution_count": null,
   "metadata": {},
   "outputs": [],
   "source": [
    "def pangrams(s: str) -> str:\n",
    "    # Write your code here\n",
    "    counter = {k:v for k, v in zip(ascii_lowercase, [0]* 26)}\n",
    "\n",
    "    for c in s:\n",
    "        if not c.isalpha or c.isspace(): continue\n",
    "        counter[c.lower()] += 1\n",
    "    \n",
    "    return 'not pangram' if 0 in counter.values() else 'pangram'"
   ]
  }
 ],
 "metadata": {
  "kernelspec": {
   "display_name": ".venv",
   "language": "python",
   "name": "python3"
  },
  "language_info": {
   "codemirror_mode": {
    "name": "ipython",
    "version": 3
   },
   "file_extension": ".py",
   "mimetype": "text/x-python",
   "name": "python",
   "nbconvert_exporter": "python",
   "pygments_lexer": "ipython3",
   "version": "3.10.9"
  },
  "orig_nbformat": 4,
  "vscode": {
   "interpreter": {
    "hash": "ae2d3659b3684f688dcecafa70fc576f1d22112b75078f64f7d72a545140f712"
   }
  }
 },
 "nbformat": 4,
 "nbformat_minor": 2
}
