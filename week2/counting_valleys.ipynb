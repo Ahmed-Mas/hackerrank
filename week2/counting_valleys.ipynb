{
 "cells": [
  {
   "cell_type": "code",
   "execution_count": 15,
   "metadata": {},
   "outputs": [],
   "source": [
    "steps = 8\n",
    "path = ['D','U','D','U','D','U','D','U']"
   ]
  },
  {
   "cell_type": "code",
   "execution_count": 16,
   "metadata": {},
   "outputs": [
    {
     "data": {
      "text/plain": [
       "4"
      ]
     },
     "execution_count": 16,
     "metadata": {},
     "output_type": "execute_result"
    }
   ],
   "source": [
    "i = 0\n",
    "altitude = valleys = 0\n",
    "while i < steps:\n",
    "    if path[i] == 'U':\n",
    "        altitude += 1\n",
    "    else:\n",
    "        altitude -= 1\n",
    "    \n",
    "    if altitude < 0:\n",
    "        valleys += 1\n",
    "        \n",
    "    while altitude < 0:\n",
    "        i += 1\n",
    "        if path[i] == 'U':\n",
    "            altitude += 1\n",
    "        else:\n",
    "            altitude -= 1\n",
    "    i += 1\n",
    "valleys"
   ]
  },
  {
   "cell_type": "code",
   "execution_count": null,
   "metadata": {},
   "outputs": [],
   "source": [
    "def countingValleys(steps: int, path: list[str]) -> int:\n",
    "    # Write your code here\n",
    "    i = 0\n",
    "    altitude = valleys = 0\n",
    "    while i < steps:\n",
    "        if path[i] == 'U': altitude += 1\n",
    "        else: altitude -= 1\n",
    "        \n",
    "        if altitude < 0: valleys += 1\n",
    "            \n",
    "        while altitude < 0:\n",
    "            i += 1\n",
    "            if path[i] == 'U': altitude += 1\n",
    "            else: altitude -= 1\n",
    "        i += 1\n",
    "    return valleys"
   ]
  }
 ],
 "metadata": {
  "kernelspec": {
   "display_name": ".venv",
   "language": "python",
   "name": "python3"
  },
  "language_info": {
   "codemirror_mode": {
    "name": "ipython",
    "version": 3
   },
   "file_extension": ".py",
   "mimetype": "text/x-python",
   "name": "python",
   "nbconvert_exporter": "python",
   "pygments_lexer": "ipython3",
   "version": "3.10.9"
  },
  "orig_nbformat": 4,
  "vscode": {
   "interpreter": {
    "hash": "ae2d3659b3684f688dcecafa70fc576f1d22112b75078f64f7d72a545140f712"
   }
  }
 },
 "nbformat": 4,
 "nbformat_minor": 2
}
