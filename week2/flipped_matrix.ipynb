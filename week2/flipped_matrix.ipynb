{
 "cells": [
  {
   "cell_type": "code",
   "execution_count": 85,
   "metadata": {},
   "outputs": [],
   "source": [
    "matrix = [\n",
    "        [1,2,3,4,20,11],\n",
    "        [5,6,7,8,21,1],\n",
    "        [9,10,11,12,15,0],\n",
    "        [13,14,15,16,0,5],\n",
    "        [9,10,11,12,15,0],\n",
    "        [1,2,3,4,20,11],\n",
    "    ]"
   ]
  },
  {
   "cell_type": "code",
   "execution_count": 91,
   "metadata": {},
   "outputs": [
    {
     "data": {
      "text/plain": [
       "121"
      ]
     },
     "execution_count": 91,
     "metadata": {},
     "output_type": "execute_result"
    }
   ],
   "source": [
    "res = 0\n",
    "for x in range(len(matrix)//2):\n",
    "    for y in range(len(matrix)//2):\n",
    "        first = matrix[x][y]\n",
    "        second = matrix[x][len(matrix) - y - 1]\n",
    "        third = matrix[len(matrix) - x - 1][y]\n",
    "        fourth = matrix[len(matrix) - x - 1][len(matrix) - y - 1]\n",
    "        res += max(first, second, third, fourth)\n",
    "res"
   ]
  },
  {
   "cell_type": "code",
   "execution_count": 60,
   "metadata": {},
   "outputs": [
    {
     "data": {
      "text/plain": [
       "3"
      ]
     },
     "execution_count": 60,
     "metadata": {},
     "output_type": "execute_result"
    }
   ],
   "source": [
    "len(m) - 0 - 1"
   ]
  },
  {
   "cell_type": "code",
   "execution_count": null,
   "metadata": {},
   "outputs": [],
   "source": [
    "1 + len(m)"
   ]
  },
  {
   "cell_type": "code",
   "execution_count": null,
   "metadata": {},
   "outputs": [],
   "source": [
    "def flippingMatrix(matrix: list[list[int]]) -> int:\n",
    "    # Write your code here\n",
    "    res = 0\n",
    "    for x in range(len(matrix)//2):\n",
    "        for y in range(len(matrix)//2):\n",
    "            first = matrix[x][y]\n",
    "            second = matrix[x][len(matrix) - y - 1]\n",
    "            third = matrix[len(matrix) - x - 1][y]\n",
    "            fourth = matrix[len(matrix) - x - 1][len(matrix) - y - 1]\n",
    "            res += max(first, second, third, fourth)\n",
    "    return res"
   ]
  }
 ],
 "metadata": {
  "kernelspec": {
   "display_name": ".venv",
   "language": "python",
   "name": "python3"
  },
  "language_info": {
   "codemirror_mode": {
    "name": "ipython",
    "version": 3
   },
   "file_extension": ".py",
   "mimetype": "text/x-python",
   "name": "python",
   "nbconvert_exporter": "python",
   "pygments_lexer": "ipython3",
   "version": "3.10.9"
  },
  "orig_nbformat": 4,
  "vscode": {
   "interpreter": {
    "hash": "ae2d3659b3684f688dcecafa70fc576f1d22112b75078f64f7d72a545140f712"
   }
  }
 },
 "nbformat": 4,
 "nbformat_minor": 2
}
