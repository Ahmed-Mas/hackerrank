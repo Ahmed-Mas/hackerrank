{
 "cells": [
  {
   "cell_type": "code",
   "execution_count": 1,
   "metadata": {},
   "outputs": [],
   "source": [
    "ops = ['1 fg', '4']"
   ]
  },
  {
   "cell_type": "code",
   "execution_count": null,
   "metadata": {},
   "outputs": [],
   "source": [
    "# Enter your code here. Read input from STDIN. Print output to STDOUT\n",
    "\n",
    "class TextEditor:    \n",
    "    def __init__(self) -> None:\n",
    "        self.last_state = []\n",
    "        self._S = ''\n",
    "        self.ops = {\n",
    "            '1': self.append_s,\n",
    "            '2': self.delete_S,\n",
    "            '3': self.print_S,\n",
    "            '4': self.undo_S\n",
    "        }\n",
    "\n",
    "    def append_s(self, w: str) -> None:\n",
    "        self.last_state.append(self._S)\n",
    "        self._S += w\n",
    "    \n",
    "    def delete_S(self, k: str) -> None:\n",
    "        self.last_state.append(self._S)\n",
    "        self._S = self._S[:-int(k)]\n",
    "\n",
    "    def print_S(self, k: str) -> None:\n",
    "        print(self._S[int(k) - 1])\n",
    "    \n",
    "    def undo_S(self) -> None:\n",
    "        self._S = self.last_state.pop()\n",
    "\n",
    "\n",
    "def main() -> None:\n",
    "    q = int(input())\n",
    "    text_editor = None\n",
    "    while q:\n",
    "        ops = input()\n",
    "        op, *op_s = ops.split(' ')\n",
    "        \n",
    "        if not text_editor: text_editor = TextEditor()\n",
    "\n",
    "        text_editor.ops[op](*op_s)\n",
    "        q -= 1\n",
    "        \n",
    "\n",
    "if __name__ == '__main__':\n",
    "    main()"
   ]
  }
 ],
 "metadata": {
  "kernelspec": {
   "display_name": ".venv",
   "language": "python",
   "name": "python3"
  },
  "language_info": {
   "codemirror_mode": {
    "name": "ipython",
    "version": 3
   },
   "file_extension": ".py",
   "mimetype": "text/x-python",
   "name": "python",
   "nbconvert_exporter": "python",
   "pygments_lexer": "ipython3",
   "version": "3.10.9"
  },
  "orig_nbformat": 4,
  "vscode": {
   "interpreter": {
    "hash": "ae2d3659b3684f688dcecafa70fc576f1d22112b75078f64f7d72a545140f712"
   }
  }
 },
 "nbformat": 4,
 "nbformat_minor": 2
}
