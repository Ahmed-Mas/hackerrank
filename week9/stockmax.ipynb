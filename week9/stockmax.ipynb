{
 "cells": [
  {
   "cell_type": "code",
   "execution_count": 138,
   "metadata": {},
   "outputs": [],
   "source": [
    "prices = [5,5,5,5, 4,3,2,1]"
   ]
  },
  {
   "cell_type": "code",
   "execution_count": 139,
   "metadata": {},
   "outputs": [],
   "source": [
    "profit = 0\n",
    "i = len(prices) - 1\n",
    "while i >= 0:\n",
    "    max_here = -1\n",
    "    buy_prices = []\n",
    "    while i >= 0 and prices[i] > max_here:\n",
    "        max_here = prices[i]\n",
    "        i -= 1\n",
    "    while i >= 0 and prices[i] < max_here:\n",
    "        buy_prices.append(prices[i])\n",
    "        i -= 1\n",
    "    \n",
    "    profit += max_here * len(buy_prices) - sum(buy_prices)"
   ]
  },
  {
   "cell_type": "code",
   "execution_count": 140,
   "metadata": {},
   "outputs": [
    {
     "data": {
      "text/plain": [
       "0"
      ]
     },
     "execution_count": 140,
     "metadata": {},
     "output_type": "execute_result"
    }
   ],
   "source": [
    "profit"
   ]
  },
  {
   "cell_type": "code",
   "execution_count": null,
   "metadata": {},
   "outputs": [],
   "source": [
    "def stockmax(prices: list[int]) -> int:  # essentially start at the end and buy for everyday thats below some max\n",
    "    # Write your code here\n",
    "    profit = 0\n",
    "    i = len(prices) - 1\n",
    "    while i >= 0:\n",
    "        max_here = -1\n",
    "        buy_prices = []\n",
    "        while i >= 0 and prices[i] > max_here:\n",
    "            max_here = prices[i]\n",
    "            i -= 1\n",
    "        while i >= 0 and prices[i] < max_here:\n",
    "            buy_prices.append(prices[i])\n",
    "            i -= 1\n",
    "        \n",
    "        profit += max_here * len(buy_prices) - sum(buy_prices)\n",
    "    return profit\n",
    "    "
   ]
  }
 ],
 "metadata": {
  "kernelspec": {
   "display_name": ".venv",
   "language": "python",
   "name": "python3"
  },
  "language_info": {
   "codemirror_mode": {
    "name": "ipython",
    "version": 3
   },
   "file_extension": ".py",
   "mimetype": "text/x-python",
   "name": "python",
   "nbconvert_exporter": "python",
   "pygments_lexer": "ipython3",
   "version": "3.10.9"
  },
  "orig_nbformat": 4,
  "vscode": {
   "interpreter": {
    "hash": "ae2d3659b3684f688dcecafa70fc576f1d22112b75078f64f7d72a545140f712"
   }
  }
 },
 "nbformat": 4,
 "nbformat_minor": 2
}
