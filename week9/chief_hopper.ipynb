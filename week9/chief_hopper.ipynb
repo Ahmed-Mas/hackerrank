{
 "cells": [
  {
   "cell_type": "code",
   "execution_count": 90,
   "metadata": {},
   "outputs": [],
   "source": [
    "arr = [100,100,100,100,100]"
   ]
  },
  {
   "cell_type": "code",
   "execution_count": 120,
   "metadata": {},
   "outputs": [
    {
     "name": "stdout",
     "output_type": "stream",
     "text": [
      "50\n",
      "75\n",
      "88\n",
      "94\n",
      "97\n",
      "97\n"
     ]
    }
   ],
   "source": [
    "# this works. Not sure I understand why. Will google it\n",
    "def chiefHopper(arr: list[int]) -> int:\n",
    "    # Write your code here\n",
    "    n = 0\n",
    "    energy = 0\n",
    "    for height in reversed(arr): \n",
    "        energy = math.ceil((energy + height) / 2)\n",
    "    return energy"
   ]
  },
  {
   "cell_type": "code",
   "execution_count": 128,
   "metadata": {},
   "outputs": [
    {
     "data": {
      "text/plain": [
       "87.5"
      ]
     },
     "execution_count": 128,
     "metadata": {},
     "output_type": "execute_result"
    }
   ],
   "source": [
    "(((((0 + 100) / 2) + 100) / 2) + 100) / 2"
   ]
  },
  {
   "cell_type": "code",
   "execution_count": 117,
   "metadata": {},
   "outputs": [
    {
     "name": "stdout",
     "output_type": "stream",
     "text": [
      "-3100 0\n",
      "-3068 1\n",
      "-3036 2\n",
      "-3004 3\n",
      "-2972 4\n",
      "-2940 5\n",
      "-2908 6\n",
      "-2876 7\n",
      "-2844 8\n",
      "-2812 9\n",
      "-2780 10\n",
      "-2748 11\n",
      "-2716 12\n",
      "-2684 13\n",
      "-2652 14\n",
      "-2620 15\n",
      "-2588 16\n",
      "-2556 17\n",
      "-2524 18\n",
      "-2492 19\n",
      "-2460 20\n",
      "-2428 21\n",
      "-2396 22\n",
      "-2364 23\n",
      "-2332 24\n",
      "-2300 25\n",
      "-2268 26\n",
      "-2236 27\n",
      "-2204 28\n",
      "-2172 29\n",
      "-2140 30\n",
      "-2108 31\n",
      "-2076 32\n",
      "-2044 33\n",
      "-2012 34\n",
      "-1980 35\n",
      "-1948 36\n",
      "-1916 37\n",
      "-1884 38\n",
      "-1852 39\n",
      "-1820 40\n",
      "-1788 41\n",
      "-1756 42\n",
      "-1724 43\n",
      "-1692 44\n",
      "-1660 45\n",
      "-1628 46\n",
      "-1596 47\n",
      "-1564 48\n",
      "-1532 49\n",
      "-1500 50\n",
      "-1468 51\n",
      "-1436 52\n",
      "-1404 53\n",
      "-1372 54\n",
      "-1340 55\n",
      "-1308 56\n",
      "-1276 57\n",
      "-1244 58\n",
      "-1212 59\n",
      "-1180 60\n",
      "-1148 61\n",
      "-1116 62\n",
      "-1084 63\n",
      "-1052 64\n",
      "-1020 65\n",
      "-988 66\n",
      "-956 67\n",
      "-924 68\n",
      "-892 69\n",
      "-860 70\n",
      "-828 71\n",
      "-796 72\n",
      "-764 73\n",
      "-732 74\n",
      "-700 75\n",
      "-668 76\n",
      "-636 77\n",
      "-604 78\n",
      "-572 79\n",
      "-540 80\n",
      "-508 81\n",
      "-476 82\n",
      "-444 83\n",
      "-412 84\n",
      "-380 85\n",
      "-348 86\n",
      "-316 87\n",
      "-284 88\n",
      "-252 89\n",
      "-220 90\n",
      "-188 91\n",
      "-156 92\n",
      "-124 93\n",
      "-92 94\n",
      "-60 95\n",
      "-28 96\n",
      "97\n"
     ]
    }
   ],
   "source": [
    "n = 0\n",
    "while True:\n",
    "    cur_energy = n\n",
    "    for h in arr:\n",
    "        cur_energy += cur_energy - h\n",
    "    if cur_energy >= 0:\n",
    "        print(n)\n",
    "        break\n",
    "    print(cur_energy, n)\n",
    "    n += 1\n"
   ]
  },
  {
   "cell_type": "code",
   "execution_count": null,
   "metadata": {},
   "outputs": [],
   "source": []
  }
 ],
 "metadata": {
  "kernelspec": {
   "display_name": ".venv",
   "language": "python",
   "name": "python3"
  },
  "language_info": {
   "codemirror_mode": {
    "name": "ipython",
    "version": 3
   },
   "file_extension": ".py",
   "mimetype": "text/x-python",
   "name": "python",
   "nbconvert_exporter": "python",
   "pygments_lexer": "ipython3",
   "version": "3.10.9"
  },
  "orig_nbformat": 4,
  "vscode": {
   "interpreter": {
    "hash": "ae2d3659b3684f688dcecafa70fc576f1d22112b75078f64f7d72a545140f712"
   }
  }
 },
 "nbformat": 4,
 "nbformat_minor": 2
}
