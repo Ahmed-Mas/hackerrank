{
 "cells": [
  {
   "cell_type": "code",
   "execution_count": 97,
   "metadata": {},
   "outputs": [],
   "source": [
    "from itertools import combinations"
   ]
  },
  {
   "cell_type": "code",
   "execution_count": 98,
   "metadata": {},
   "outputs": [],
   "source": [
    "s = 'beabeefeab'"
   ]
  },
  {
   "cell_type": "code",
   "execution_count": 96,
   "metadata": {},
   "outputs": [],
   "source": [
    "def alternate(s: str) -> int:\n",
    "    s_set = set(s)\n",
    "    letters = combinations(s_set, 2)\n",
    "    \n",
    "    cur_max = 0\n",
    "    for l in letters:\n",
    "        new_s = s[:]\n",
    "        for sc in list(s_set):\n",
    "            if sc not in l: \n",
    "                new_s = new_s.replace(sc, '')\n",
    "        \n",
    "        expected_s = ((l[0] + l[1]) * (len(new_s)))  # creates a string using the 2 letters we can check our new string against\n",
    "\n",
    "        if new_s == expected_s[:len(new_s)] or new_s == expected_s[1:len(new_s) + 1]:\n",
    "            cur_max = max(cur_max, len(new_s))\n",
    "    return cur_max\n"
   ]
  },
  {
   "cell_type": "code",
   "execution_count": 99,
   "metadata": {},
   "outputs": [
    {
     "data": {
      "text/plain": [
       "5"
      ]
     },
     "execution_count": 99,
     "metadata": {},
     "output_type": "execute_result"
    }
   ],
   "source": [
    "alternate(s)"
   ]
  },
  {
   "cell_type": "code",
   "execution_count": null,
   "metadata": {},
   "outputs": [],
   "source": []
  }
 ],
 "metadata": {
  "kernelspec": {
   "display_name": ".venv",
   "language": "python",
   "name": "python3"
  },
  "language_info": {
   "codemirror_mode": {
    "name": "ipython",
    "version": 3
   },
   "file_extension": ".py",
   "mimetype": "text/x-python",
   "name": "python",
   "nbconvert_exporter": "python",
   "pygments_lexer": "ipython3",
   "version": "3.10.9"
  },
  "orig_nbformat": 4,
  "vscode": {
   "interpreter": {
    "hash": "ae2d3659b3684f688dcecafa70fc576f1d22112b75078f64f7d72a545140f712"
   }
  }
 },
 "nbformat": 4,
 "nbformat_minor": 2
}
