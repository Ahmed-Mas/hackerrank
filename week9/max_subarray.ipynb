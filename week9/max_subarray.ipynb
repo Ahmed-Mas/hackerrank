{
 "cells": [
  {
   "cell_type": "code",
   "execution_count": 31,
   "metadata": {},
   "outputs": [
    {
     "data": {
      "text/plain": [
       "[2, -1, 2, 3, 4, -5]"
      ]
     },
     "execution_count": 31,
     "metadata": {},
     "output_type": "execute_result"
    }
   ],
   "source": [
    "arr = [2, -1, 2, 3, 4, -5]\n",
    "arr"
   ]
  },
  {
   "cell_type": "code",
   "execution_count": 33,
   "metadata": {},
   "outputs": [
    {
     "data": {
      "text/plain": [
       "[True, False, True, True, True, False]"
      ]
     },
     "execution_count": 33,
     "metadata": {},
     "output_type": "execute_result"
    }
   ],
   "source": [
    "quick_test = [i > 0 for i in arr]\n",
    "quick_test"
   ]
  },
  {
   "cell_type": "code",
   "execution_count": 52,
   "metadata": {},
   "outputs": [
    {
     "data": {
      "text/plain": [
       "6"
      ]
     },
     "execution_count": 52,
     "metadata": {},
     "output_type": "execute_result"
    }
   ],
   "source": [
    "subarray_sum = sum([n for n in arr if n > 0])\n",
    "subarray_sum"
   ]
  },
  {
   "cell_type": "code",
   "execution_count": 27,
   "metadata": {},
   "outputs": [
    {
     "name": "stdout",
     "output_type": "stream",
     "text": [
      "[-10, -10]\n"
     ]
    }
   ],
   "source": [
    "if not any(1 for i in arr if i > 0):\n",
    "    print([max(arr), max(arr)])"
   ]
  },
  {
   "cell_type": "code",
   "execution_count": 43,
   "metadata": {},
   "outputs": [],
   "source": [
    "# doesn't work for lots of cases\n",
    "\n",
    "def maxSubarray(arr):\n",
    "    # Write your code here\n",
    "    quick_test = [i > 0 for i in arr]\n",
    "    if all(quick_test): return [sum(arr), sum(arr)]\n",
    "    if not any(quick_test): return [max(arr), max(arr)]\n",
    "    \n",
    "    subarray_sum = sum([n for n in arr if n > 0])\n",
    "    \n",
    "    i = 0\n",
    "    j = len(arr)\n",
    "    cur_sum = max(arr)\n",
    "    while i <= len(arr) and j >=0:\n",
    "        left_sum = sum(arr[i:j - 1])\n",
    "        right_sum = sum(arr[i + 1:j])\n",
    "        if left_sum < cur_sum > right_sum:\n",
    "            if cur_sum > max(arr):\n",
    "                return [cur_sum, subarray_sum]\n",
    "            else:\n",
    "                return [max(arr), subarray_sum]\n",
    "        elif left_sum > right_sum:\n",
    "            cur_sum = left_sum\n",
    "            j -= 1\n",
    "        else:\n",
    "            cur_sum = right_sum\n",
    "            i += 1\n",
    "    return [max(arr), max(arr)]\n"
   ]
  },
  {
   "cell_type": "code",
   "execution_count": 44,
   "metadata": {},
   "outputs": [
    {
     "data": {
      "text/plain": [
       "[5, 6]"
      ]
     },
     "execution_count": 44,
     "metadata": {},
     "output_type": "execute_result"
    }
   ],
   "source": [
    "maxSubarray([1,-1, -1, -1, -1, 5])"
   ]
  },
  {
   "cell_type": "code",
   "execution_count": 58,
   "metadata": {},
   "outputs": [],
   "source": [
    "arr = [1, -1, -1, -1, -1, 5]\n",
    "#arr = [2, -1, 2, 3, 4, -5]"
   ]
  },
  {
   "cell_type": "code",
   "execution_count": 59,
   "metadata": {},
   "outputs": [
    {
     "name": "stdout",
     "output_type": "stream",
     "text": [
      "[5, 6]\n"
     ]
    }
   ],
   "source": [
    "i = 0\n",
    "j = len(arr)\n",
    "\n",
    "cur_sum = max(arr)\n",
    "\n",
    "while i <  len(arr) and j >= 0:\n",
    "    left_sum = sum(arr[i:j - 1])\n",
    "    right_sum = sum(arr[i + 1:j])\n",
    "    if left_sum < cur_sum > right_sum:\n",
    "        print([cur_sum, subarray_sum])\n",
    "        break\n",
    "    elif left_sum > right_sum:\n",
    "        cur_sum = left_sum\n",
    "        j -= 1\n",
    "    else:\n",
    "        cur_sum = right_sum\n",
    "        i += 1"
   ]
  },
  {
   "cell_type": "code",
   "execution_count": 56,
   "metadata": {},
   "outputs": [
    {
     "name": "stdout",
     "output_type": "stream",
     "text": [
      "[10, 6]\n"
     ]
    }
   ],
   "source": [
    "i = 0\n",
    "j = len(arr)\n",
    "cur_sum = sum(arr)\n",
    "while i <= len(arr) and j >=0:\n",
    "    left_sum = sum(arr[i:j - 1])\n",
    "    right_sum = sum(arr[i + 1:j])\n",
    "    if left_sum < cur_sum > right_sum:\n",
    "        if cur_sum > max(arr):\n",
    "            print([cur_sum, subarray_sum])\n",
    "            break\n",
    "        else:\n",
    "            print([max(arr), subarray_sum])\n",
    "            break\n",
    "    elif left_sum > right_sum:\n",
    "        cur_sum = left_sum\n",
    "        j -= 1\n",
    "    else:\n",
    "        cur_sum = right_sum\n",
    "        i += 1"
   ]
  },
  {
   "cell_type": "code",
   "execution_count": null,
   "metadata": {},
   "outputs": [],
   "source": [
    "# kadanes algorithm. Basically keep a record of highest so far, and the sum of a subsection. Updating the mas so far if the sum of some sub works\n",
    "\n",
    "def maxSubarray(arr: list[int]) -> list[int, int]:\n",
    "    # Write your code here\n",
    "    quick_test = [i > 0 for i in arr]\n",
    "    if all(quick_test): return [sum(arr), sum(arr)]\n",
    "    if not any(quick_test): return [max(arr), max(arr)]\n",
    "    \n",
    "    subarray_sum = sum([n for n in arr if n > 0])\n",
    "    \n",
    "    max_so_far = min(arr)\n",
    "    max_ending = 0\n",
    "    \n",
    "    for i in range(len(arr)):\n",
    "        max_ending += arr[i]\n",
    "        if max_so_far < max_ending:\n",
    "            max_so_far = max_ending\n",
    "        \n",
    "        if max_ending < 0:\n",
    "            max_ending = 0\n",
    "    return [max_so_far, subarray_sum]"
   ]
  }
 ],
 "metadata": {
  "kernelspec": {
   "display_name": ".venv",
   "language": "python",
   "name": "python3"
  },
  "language_info": {
   "codemirror_mode": {
    "name": "ipython",
    "version": 3
   },
   "file_extension": ".py",
   "mimetype": "text/x-python",
   "name": "python",
   "nbconvert_exporter": "python",
   "pygments_lexer": "ipython3",
   "version": "3.10.9"
  },
  "orig_nbformat": 4,
  "vscode": {
   "interpreter": {
    "hash": "ae2d3659b3684f688dcecafa70fc576f1d22112b75078f64f7d72a545140f712"
   }
  }
 },
 "nbformat": 4,
 "nbformat_minor": 2
}
