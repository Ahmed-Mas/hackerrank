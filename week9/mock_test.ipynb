{
 "cells": [
  {
   "cell_type": "code",
   "execution_count": 87,
   "metadata": {},
   "outputs": [],
   "source": [
    "ar = [(1, 5), (3, 3), (4, 3), (2, 4), (10, 3), (3, 4), (3, 3)]"
   ]
  },
  {
   "cell_type": "code",
   "execution_count": 90,
   "metadata": {},
   "outputs": [],
   "source": [
    "def trucker(gas_stations: list[int]) -> int:\n",
    "    start_idx = sum_gas = sum_dist = 0\n",
    "    for i in range(len(gas_stations)):\n",
    "        sum_gas += gas_stations[i][0]\n",
    "        sum_dist += gas_stations[i][1]\n",
    "        if sum_gas < sum_dist:\n",
    "            sum_gas = sum_dist = 0\n",
    "            start_idx = i + 1\n",
    "    return start_idx\n"
   ]
  },
  {
   "cell_type": "code",
   "execution_count": 91,
   "metadata": {},
   "outputs": [
    {
     "data": {
      "text/plain": [
       "4"
      ]
     },
     "execution_count": 91,
     "metadata": {},
     "output_type": "execute_result"
    }
   ],
   "source": [
    "trucker(ar)"
   ]
  },
  {
   "cell_type": "code",
   "execution_count": 63,
   "metadata": {},
   "outputs": [
    {
     "name": "stdout",
     "output_type": "stream",
     "text": [
      "idx: 1\n",
      "-1\n"
     ]
    }
   ],
   "source": [
    "# works but is kinda slow\n",
    "i = 0\n",
    "while i < len(ar):\n",
    "    cur_gas = 0\n",
    "    flag = True\n",
    "    for gas, dist in ar[i:] + ar[:i]:\n",
    "        cur_gas += gas\n",
    "        if dist > cur_gas:\n",
    "            i += 1\n",
    "            flag = False\n",
    "            break\n",
    "        cur_gas -= dist\n",
    "    if flag:\n",
    "        print('idx:', i)\n",
    "        break\n",
    "print(-1)\n"
   ]
  }
 ],
 "metadata": {
  "kernelspec": {
   "display_name": ".venv",
   "language": "python",
   "name": "python3"
  },
  "language_info": {
   "codemirror_mode": {
    "name": "ipython",
    "version": 3
   },
   "file_extension": ".py",
   "mimetype": "text/x-python",
   "name": "python",
   "nbconvert_exporter": "python",
   "pygments_lexer": "ipython3",
   "version": "3.10.9"
  },
  "orig_nbformat": 4,
  "vscode": {
   "interpreter": {
    "hash": "ae2d3659b3684f688dcecafa70fc576f1d22112b75078f64f7d72a545140f712"
   }
  }
 },
 "nbformat": 4,
 "nbformat_minor": 2
}
