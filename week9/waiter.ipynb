{
 "cells": [
  {
   "cell_type": "code",
   "execution_count": 88,
   "metadata": {},
   "outputs": [],
   "source": [
    "primes = [2,3,5,7,11,13]\n",
    "a = [3, 4, 7, 6, 5]\n",
    "q = 1"
   ]
  },
  {
   "cell_type": "code",
   "execution_count": 89,
   "metadata": {},
   "outputs": [],
   "source": [
    "a = list(reversed(a))"
   ]
  },
  {
   "cell_type": "code",
   "execution_count": 90,
   "metadata": {},
   "outputs": [
    {
     "data": {
      "text/plain": [
       "[5, 6, 7, 4, 3]"
      ]
     },
     "execution_count": 90,
     "metadata": {},
     "output_type": "execute_result"
    }
   ],
   "source": [
    "a"
   ]
  },
  {
   "cell_type": "code",
   "execution_count": 203,
   "metadata": {},
   "outputs": [],
   "source": [
    "from math import ceil, log"
   ]
  },
  {
   "cell_type": "code",
   "execution_count": 248,
   "metadata": {},
   "outputs": [],
   "source": [
    "def find_primes(limit: int) -> int:  # sieve of eratosthenes\n",
    "    nums = [True] * (limit + 1)\n",
    "    nums[0] = nums[1] = False\n",
    "\n",
    "    for (i, is_prime) in enumerate(nums):\n",
    "        if is_prime:\n",
    "            yield i\n",
    "            for n in range(i * i, limit + 1, i):\n",
    "                nums[n] = False\n",
    "\n",
    "def upper_bound_for_p_n(n: int) -> int:  # makes some upperbound for the sieve\n",
    "    if n < 6:\n",
    "        return 100\n",
    "    return ceil(n * (log(n) + log(log(n))))\n",
    "\n",
    "def find_n_prime(n: int) -> list[int]:  # clean entry\n",
    "    primes = list(find_primes(upper_bound_for_p_n(n)))\n",
    "    return primes\n"
   ]
  },
  {
   "cell_type": "code",
   "execution_count": 247,
   "metadata": {},
   "outputs": [
    {
     "data": {
      "text/plain": [
       "[2, 3, 5, 7, 11, 13]"
      ]
     },
     "execution_count": 247,
     "metadata": {},
     "output_type": "execute_result"
    }
   ],
   "source": [
    "find_n_prime(6)"
   ]
  },
  {
   "cell_type": "code",
   "execution_count": 91,
   "metadata": {},
   "outputs": [],
   "source": [
    "ans = []\n",
    "for i in range(q):\n",
    "    _a = []\n",
    "    b = []\n",
    "    for n in range(len(a)):\n",
    "        if a[n] % primes[i] == 0:\n",
    "            b.insert(0, a[n])\n",
    "        else:\n",
    "            _a.append(a[n])\n",
    "    ans += b\n",
    "    a = _a\n",
    "if _a:\n",
    "    ans += _a[::-1]"
   ]
  },
  {
   "cell_type": "code",
   "execution_count": 92,
   "metadata": {},
   "outputs": [
    {
     "data": {
      "text/plain": [
       "[4, 6, 3, 7, 5]"
      ]
     },
     "execution_count": 92,
     "metadata": {},
     "output_type": "execute_result"
    }
   ],
   "source": [
    "def waiter(number: int, q: list[int]) -> list[int]:\n",
    "    # Write your code here\n",
    "    primes = find_n_prime(q)\n",
    "    \n",
    "    ans = []\n",
    "    for i in range(q):\n",
    "        _a = []\n",
    "        b = []\n",
    "        for n in range(len(number)):\n",
    "            if number[~n] % primes[i] == 0:\n",
    "                b.insert(0, number[~n])\n",
    "            else:\n",
    "                _a.append(number[~n])\n",
    "        ans += b\n",
    "        number = _a\n",
    "    if _a:\n",
    "        ans += reversed(_a)\n",
    "    return ans"
   ]
  },
  {
   "cell_type": "code",
   "execution_count": 87,
   "metadata": {},
   "outputs": [
    {
     "data": {
      "text/plain": [
       "[5, 7, 3]"
      ]
     },
     "execution_count": 87,
     "metadata": {},
     "output_type": "execute_result"
    }
   ],
   "source": [
    "_a"
   ]
  },
  {
   "cell_type": "code",
   "execution_count": null,
   "metadata": {},
   "outputs": [],
   "source": []
  }
 ],
 "metadata": {
  "kernelspec": {
   "display_name": ".venv",
   "language": "python",
   "name": "python3"
  },
  "language_info": {
   "codemirror_mode": {
    "name": "ipython",
    "version": 3
   },
   "file_extension": ".py",
   "mimetype": "text/x-python",
   "name": "python",
   "nbconvert_exporter": "python",
   "pygments_lexer": "ipython3",
   "version": "3.10.9"
  },
  "orig_nbformat": 4,
  "vscode": {
   "interpreter": {
    "hash": "ae2d3659b3684f688dcecafa70fc576f1d22112b75078f64f7d72a545140f712"
   }
  }
 },
 "nbformat": 4,
 "nbformat_minor": 2
}
