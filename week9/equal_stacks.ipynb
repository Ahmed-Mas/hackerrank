{
 "cells": [
  {
   "cell_type": "code",
   "execution_count": 45,
   "metadata": {},
   "outputs": [],
   "source": [
    "a = [3,2,1,1,1]\n",
    "b = [4,3,2]\n",
    "c = [1,1,4,1]"
   ]
  },
  {
   "cell_type": "code",
   "execution_count": 39,
   "metadata": {},
   "outputs": [
    {
     "name": "stdout",
     "output_type": "stream",
     "text": [
      "5 4 2\n",
      "4 3 2\n",
      "2\n"
     ]
    }
   ],
   "source": [
    "a_sum, b_sum, c_sum = sum(a), sum(b), sum(c)\n",
    "\n",
    "if a_sum == b_sum and b_sum == c_sum: print(a_sum)\n",
    "\n",
    "while a and b and c:\n",
    "    if a_sum > b_sum or a_sum > c_sum:\n",
    "        a.pop(0)\n",
    "        a_sum = sum(a)\n",
    "    if b_sum > a_sum or b_sum > c_sum:\n",
    "        b.pop(0)\n",
    "        b_sum = sum(b)\n",
    "    if c_sum > a_sum or c_sum > b_sum:\n",
    "        c.pop(0)\n",
    "        c_sum = sum(c)\n",
    "    if a_sum == b_sum and b_sum == c_sum:\n",
    "        print(a_sum)\n",
    "        break"
   ]
  },
  {
   "cell_type": "code",
   "execution_count": 37,
   "metadata": {},
   "outputs": [
    {
     "data": {
      "text/plain": [
       "(1, 1, 1)"
      ]
     },
     "execution_count": 37,
     "metadata": {},
     "output_type": "execute_result"
    }
   ],
   "source": [
    "a_sum, b_sum, c_sum"
   ]
  },
  {
   "cell_type": "code",
   "execution_count": 46,
   "metadata": {},
   "outputs": [],
   "source": [
    "def equalStacks(h1: list[int], h2: list[int], h3: list[int]) -> int:\n",
    "    # Write your code here\n",
    "    a_sum, b_sum, c_sum = sum(h1), sum(h2), sum(h3)\n",
    "\n",
    "    if a_sum == b_sum and b_sum == c_sum: return a_sum\n",
    "    if not a_sum or not b_sum or not c_sum: return 0\n",
    "\n",
    "    while h1 and h2 and h3:\n",
    "        if a_sum > b_sum or a_sum > c_sum:            \n",
    "            a_sum -= h1.pop(0)\n",
    "        if b_sum > a_sum or b_sum > c_sum:\n",
    "            b_sum -= h2.pop(0)\n",
    "        if c_sum > a_sum or c_sum > b_sum:\n",
    "            c_sum -= h3.pop(0)\n",
    "        if a_sum == b_sum and b_sum == c_sum:\n",
    "            return a_sum\n",
    "    return 0\n",
    "    "
   ]
  },
  {
   "cell_type": "code",
   "execution_count": 47,
   "metadata": {},
   "outputs": [
    {
     "data": {
      "text/plain": [
       "5"
      ]
     },
     "execution_count": 47,
     "metadata": {},
     "output_type": "execute_result"
    }
   ],
   "source": [
    "equalStacks(a,b,c)"
   ]
  },
  {
   "cell_type": "code",
   "execution_count": null,
   "metadata": {},
   "outputs": [],
   "source": []
  }
 ],
 "metadata": {
  "kernelspec": {
   "display_name": ".venv",
   "language": "python",
   "name": "python3"
  },
  "language_info": {
   "codemirror_mode": {
    "name": "ipython",
    "version": 3
   },
   "file_extension": ".py",
   "mimetype": "text/x-python",
   "name": "python",
   "nbconvert_exporter": "python",
   "pygments_lexer": "ipython3",
   "version": "3.10.9"
  },
  "orig_nbformat": 4,
  "vscode": {
   "interpreter": {
    "hash": "ae2d3659b3684f688dcecafa70fc576f1d22112b75078f64f7d72a545140f712"
   }
  }
 },
 "nbformat": 4,
 "nbformat_minor": 2
}
