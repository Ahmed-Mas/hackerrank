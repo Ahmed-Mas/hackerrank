{
 "cells": [
  {
   "cell_type": "code",
   "execution_count": 604,
   "metadata": {},
   "outputs": [],
   "source": [
    "n = 5\n",
    "grid = [\n",
    "    '.......', \n",
    "    '...O.O.', \n",
    "    '....O..',\n",
    "    '..O....', \n",
    "    'OO...OO',\n",
    "    'OO.O...'\n",
    "]"
   ]
  },
  {
   "cell_type": "code",
   "execution_count": 605,
   "metadata": {},
   "outputs": [],
   "source": [
    "grid_bombs = [[0 for _ in range(len(grid[0]))] for _ in range(len(grid))]\n",
    "\n",
    "for row in range(len(grid)):\n",
    "    for col in range(len(grid[row])):\n",
    "        if grid[row][col] == 'O':\n",
    "            grid_bombs[row][col] = 2\n",
    "            \n",
    "elapsed_secs = 1\n",
    "to_blow = []\n"
   ]
  },
  {
   "cell_type": "code",
   "execution_count": 613,
   "metadata": {},
   "outputs": [],
   "source": [
    "elapsed_secs += 1\n",
    "if elapsed_secs % 2 == 0:\n",
    "    for x in range(len(grid_bombs)):\n",
    "        for y in range(len(grid_bombs[x])):\n",
    "            if grid_bombs[x][y] == 0:\n",
    "                grid_bombs[x][y] = 3\n",
    "            grid_bombs[x][y] -= 1\n",
    "            if grid_bombs[x][y] == 1:\n",
    "                to_blow.append((x, y))\n",
    "else:\n",
    "    for x, y in to_blow:\n",
    "        grid_bombs[x][y] = 0\n",
    "        # above\n",
    "        if x > 0:\n",
    "            grid_bombs[x - 1][y] = 0\n",
    "        # below\n",
    "        if x + 1 < len(grid_bombs):\n",
    "            grid_bombs[x + 1][y] = 0\n",
    "        # left\n",
    "        if y > 0:\n",
    "            grid_bombs[x][y - 1] = 0\n",
    "        # right\n",
    "        if y + 1 < len(grid_bombs[x]):\n",
    "            grid_bombs[x][y + 1] = 0\n",
    "    to_blow = []"
   ]
  },
  {
   "cell_type": "code",
   "execution_count": 614,
   "metadata": {},
   "outputs": [
    {
     "data": {
      "text/plain": [
       "([[0, 0, 0, 0, 0, 0, 0],\n",
       "  [0, 0, 0, 2, 0, 2, 0],\n",
       "  [0, 0, 0, 2, 2, 0, 0],\n",
       "  [0, 0, 2, 2, 2, 2, 0],\n",
       "  [2, 2, 2, 2, 2, 2, 2],\n",
       "  [2, 2, 2, 2, 2, 2, 2]],\n",
       " 5)"
      ]
     },
     "execution_count": 614,
     "metadata": {},
     "output_type": "execute_result"
    }
   ],
   "source": [
    "grid_bombs, elapsed_secs"
   ]
  },
  {
   "cell_type": "code",
   "execution_count": 612,
   "metadata": {},
   "outputs": [
    {
     "data": {
      "text/plain": [
       "([[1, 1, 1, 2, 1, 2, 1],\n",
       "  [1, 1, 2, 2, 2, 2, 2],\n",
       "  [1, 1, 2, 2, 2, 2, 1],\n",
       "  [2, 2, 2, 2, 2, 2, 2],\n",
       "  [2, 2, 2, 2, 2, 2, 2],\n",
       "  [2, 2, 2, 2, 2, 2, 2]],\n",
       " 4)"
      ]
     },
     "execution_count": 612,
     "metadata": {},
     "output_type": "execute_result"
    }
   ],
   "source": [
    "grid_bombs, elapsed_secs"
   ]
  },
  {
   "cell_type": "code",
   "execution_count": 579,
   "metadata": {},
   "outputs": [],
   "source": [
    "res = ['' for _ in range(len(grid_bombs))]\n",
    "for x in range(len(grid_bombs)):\n",
    "    for y in grid_bombs[x]:\n",
    "        if y > 0: res[x] += 'O'\n",
    "        else: res[x] += '.'"
   ]
  },
  {
   "cell_type": "code",
   "execution_count": 580,
   "metadata": {},
   "outputs": [
    {
     "data": {
      "text/plain": [
       "['OOO.O.O', 'OO....O', 'OO....O', '.......', '.......', '.......']"
      ]
     },
     "execution_count": 580,
     "metadata": {},
     "output_type": "execute_result"
    }
   ],
   "source": [
    "res"
   ]
  },
  {
   "cell_type": "code",
   "execution_count": 7,
   "metadata": {},
   "outputs": [
    {
     "data": {
      "text/plain": [
       "True"
      ]
     },
     "execution_count": 7,
     "metadata": {},
     "output_type": "execute_result"
    }
   ],
   "source": [
    "((3 - 3) / 4).is_integer()"
   ]
  },
  {
   "cell_type": "code",
   "execution_count": 615,
   "metadata": {},
   "outputs": [],
   "source": [
    "def bomberMan(n: int, grid: list[list[str]]) -> list[list[str]]:\n",
    "    # Write your code here\n",
    "    if n == 1: return grid \n",
    "    if n % 2 == 0: return ['O'*len(grid[0]) for _ in range(len(grid))]  # bombs are placed everywhere on even seconds. So return a grid of all bombs\n",
    "\n",
    "    # the bombs will follow a pattern of 2 possible states repeating. These states appear at seconds 3 and 5. \n",
    "    # So no need to run for n seconds, just decide if the state is 3 seconds in or 5 seconds in\n",
    "    n = 5 if ((n - 5) / 4).is_integer() else 3\n",
    "\n",
    "    grid_bombs = [[0 for _ in range(len(grid[0]))] for _ in range(len(grid))]\n",
    "\n",
    "    for row in range(len(grid)):\n",
    "        for col in range(len(grid[row])):\n",
    "            if grid[row][col] == 'O':\n",
    "                grid_bombs[row][col] = 2\n",
    "                \n",
    "    elapsed_secs = 1\n",
    "    to_blow = []\n",
    "\n",
    "    while elapsed_secs < n:\n",
    "        elapsed_secs += 1\n",
    "        if elapsed_secs % 2 == 0:\n",
    "            for x in range(len(grid_bombs)):\n",
    "                for y in range(len(grid_bombs[x])):\n",
    "                    if grid_bombs[x][y] == 0:\n",
    "                        grid_bombs[x][y] = 3\n",
    "                    grid_bombs[x][y] -= 1\n",
    "                    if grid_bombs[x][y] == 1:\n",
    "                        to_blow.append((x, y))\n",
    "        else:\n",
    "            for x, y in to_blow:\n",
    "                grid_bombs[x][y] = 0\n",
    "                # above\n",
    "                if x > 0:\n",
    "                    grid_bombs[x - 1][y] = 0\n",
    "                # below\n",
    "                if x + 1 < len(grid_bombs):\n",
    "                    grid_bombs[x + 1][y] = 0\n",
    "                # left\n",
    "                if y > 0:\n",
    "                    grid_bombs[x][y - 1] = 0\n",
    "                # right\n",
    "                if y + 1 < len(grid_bombs[x]):\n",
    "                    grid_bombs[x][y + 1] = 0\n",
    "            to_blow = []\n",
    "    \n",
    "    res = ['' for _ in range(len(grid_bombs))]\n",
    "    for x in range(len(grid_bombs)):\n",
    "        for y in grid_bombs[x]:\n",
    "            if y > 0: res[x] += 'O'\n",
    "            else: res[x] += '.'\n",
    "    \n",
    "    return res"
   ]
  },
  {
   "cell_type": "code",
   "execution_count": 640,
   "metadata": {},
   "outputs": [
    {
     "data": {
      "text/plain": [
       "['.......', '...O...', '....O..', '.......', 'OO.....', 'OO.....']"
      ]
     },
     "execution_count": 640,
     "metadata": {},
     "output_type": "execute_result"
    }
   ],
   "source": [
    "bomberMan(5, [\n",
    "    '.......', \n",
    "    '...O...', \n",
    "    '....O..',\n",
    "    '.......', \n",
    "    'OO.....',\n",
    "    'OO.....'\n",
    "])"
   ]
  },
  {
   "cell_type": "code",
   "execution_count": 700,
   "metadata": {},
   "outputs": [
    {
     "data": {
      "text/plain": [
       "15"
      ]
     },
     "execution_count": 700,
     "metadata": {},
     "output_type": "execute_result"
    }
   ],
   "source": [
    "3 + 4 + 4 + 4"
   ]
  },
  {
   "cell_type": "code",
   "execution_count": 703,
   "metadata": {},
   "outputs": [
    {
     "data": {
      "text/plain": [
       "9"
      ]
     },
     "execution_count": 703,
     "metadata": {},
     "output_type": "execute_result"
    }
   ],
   "source": [
    "5 + 4"
   ]
  },
  {
   "cell_type": "code",
   "execution_count": 705,
   "metadata": {},
   "outputs": [
    {
     "data": {
      "text/plain": [
       "5"
      ]
     },
     "execution_count": 705,
     "metadata": {},
     "output_type": "execute_result"
    }
   ],
   "source": [
    "9 - 4"
   ]
  },
  {
   "cell_type": "code",
   "execution_count": 732,
   "metadata": {},
   "outputs": [],
   "source": [
    "n = 10**9 - 1"
   ]
  },
  {
   "cell_type": "code",
   "execution_count": null,
   "metadata": {},
   "outputs": [],
   "source": []
  }
 ],
 "metadata": {
  "kernelspec": {
   "display_name": ".venv",
   "language": "python",
   "name": "python3"
  },
  "language_info": {
   "codemirror_mode": {
    "name": "ipython",
    "version": 3
   },
   "file_extension": ".py",
   "mimetype": "text/x-python",
   "name": "python",
   "nbconvert_exporter": "python",
   "pygments_lexer": "ipython3",
   "version": "3.10.9"
  },
  "orig_nbformat": 4,
  "vscode": {
   "interpreter": {
    "hash": "ae2d3659b3684f688dcecafa70fc576f1d22112b75078f64f7d72a545140f712"
   }
  }
 },
 "nbformat": 4,
 "nbformat_minor": 2
}
