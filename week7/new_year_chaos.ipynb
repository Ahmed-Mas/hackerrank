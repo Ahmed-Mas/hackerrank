{
 "cells": [
  {
   "cell_type": "code",
   "execution_count": 9,
   "metadata": {},
   "outputs": [],
   "source": [
    "q = [1, 2, 5, 3, 7, 8, 6, 4]"
   ]
  },
  {
   "cell_type": "code",
   "execution_count": 2,
   "metadata": {},
   "outputs": [],
   "source": [
    "#  taken from discussions. Its basically a bubble sort with two iters.\n",
    "def swap_round(q: list[int]) -> int:\n",
    "    n = len(q)\n",
    "    n_bribes = 0\n",
    "    for i in range(n-1, 0, -1):\n",
    "        if q[i] < q[i-1]:\n",
    "            q[i], q[i-1] = q[i-1], q[i]\n",
    "            n_bribes += 1\n",
    "    return n_bribes\n",
    "    \n",
    "\n",
    "def minimumBribes(q: list[int]) -> None:\n",
    "    out = swap_round(q) + swap_round(q)\n",
    "    if q != sorted(q):\n",
    "        print(\"Too chaotic\")\n",
    "    else:\n",
    "        print(out)\n"
   ]
  },
  {
   "cell_type": "code",
   "execution_count": 10,
   "metadata": {},
   "outputs": [
    {
     "data": {
      "text/plain": [
       "[1, 2, 5, 3, 7, 8, 6, 4]"
      ]
     },
     "execution_count": 10,
     "metadata": {},
     "output_type": "execute_result"
    }
   ],
   "source": [
    "q"
   ]
  },
  {
   "cell_type": "code",
   "execution_count": 32,
   "metadata": {},
   "outputs": [],
   "source": [
    "tmp = [q[i] - (i + 1) for i in range(len(q))]"
   ]
  },
  {
   "cell_type": "code",
   "execution_count": 33,
   "metadata": {},
   "outputs": [
    {
     "data": {
      "text/plain": [
       "[0, 0, 2, -1, 2, 2, -1, -4]"
      ]
     },
     "execution_count": 33,
     "metadata": {},
     "output_type": "execute_result"
    }
   ],
   "source": [
    "tmp"
   ]
  },
  {
   "cell_type": "code",
   "execution_count": 35,
   "metadata": {},
   "outputs": [
    {
     "data": {
      "text/plain": [
       "6"
      ]
     },
     "execution_count": 35,
     "metadata": {},
     "output_type": "execute_result"
    }
   ],
   "source": [
    "sum([n for n in tmp if n > 0])"
   ]
  },
  {
   "cell_type": "code",
   "execution_count": 21,
   "metadata": {},
   "outputs": [
    {
     "name": "stdout",
     "output_type": "stream",
     "text": [
      "1 2 1 0 0\n",
      "2 2 0 1 1\n",
      "3 5 2 0 1\n",
      "4 5 1 2 3\n",
      "5 5 0 1 4\n",
      "4\n"
     ]
    }
   ],
   "source": [
    "totals_bribes = 0\n",
    "for i in range(len(q)):\n",
    "    bribes = (q[i] + offset) - (i + 1)\n",
    "    print((i+1), (q[i] + offset), bribes, offset, totals_bribes)\n",
    "    if bribes > 3: \n",
    "        print('TOO CHAOTIC')\n",
    "    offset = bribes\n",
    "    totals_bribes += bribes\n",
    "print(totals_bribes)"
   ]
  },
  {
   "cell_type": "code",
   "execution_count": null,
   "metadata": {},
   "outputs": [],
   "source": []
  }
 ],
 "metadata": {
  "kernelspec": {
   "display_name": ".venv",
   "language": "python",
   "name": "python3"
  },
  "language_info": {
   "codemirror_mode": {
    "name": "ipython",
    "version": 3
   },
   "file_extension": ".py",
   "mimetype": "text/x-python",
   "name": "python",
   "nbconvert_exporter": "python",
   "pygments_lexer": "ipython3",
   "version": "3.10.9"
  },
  "orig_nbformat": 4,
  "vscode": {
   "interpreter": {
    "hash": "ae2d3659b3684f688dcecafa70fc576f1d22112b75078f64f7d72a545140f712"
   }
  }
 },
 "nbformat": 4,
 "nbformat_minor": 2
}
