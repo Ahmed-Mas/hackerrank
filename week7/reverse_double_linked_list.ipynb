{
 "cells": [
  {
   "cell_type": "code",
   "execution_count": 1,
   "metadata": {},
   "outputs": [],
   "source": [
    "class DoublyLinkedListNode():\n",
    "    def __init__(self, data) -> None:\n",
    "        self.data = data\n",
    "        self.next = None\n",
    "        self.prev = None\n"
   ]
  },
  {
   "cell_type": "code",
   "execution_count": 32,
   "metadata": {},
   "outputs": [],
   "source": [
    "node1 = DoublyLinkedListNode(1)\n",
    "node2 = DoublyLinkedListNode(2)\n",
    "node3 = DoublyLinkedListNode(3)\n",
    "node4 = DoublyLinkedListNode(4)\n",
    "\n",
    "node1.next = node2\n",
    "node2.prev = node1\n",
    "node2.next = node3\n",
    "node3.prev =  node2\n",
    "node3.next = node4\n",
    "node4.prev = node3\n"
   ]
  },
  {
   "cell_type": "code",
   "execution_count": 33,
   "metadata": {},
   "outputs": [
    {
     "data": {
      "text/plain": [
       "2"
      ]
     },
     "execution_count": 33,
     "metadata": {},
     "output_type": "execute_result"
    }
   ],
   "source": [
    "node1.next.data"
   ]
  },
  {
   "cell_type": "code",
   "execution_count": 34,
   "metadata": {},
   "outputs": [],
   "source": [
    "cur_node = node1\n",
    "while cur_node.next:\n",
    "    tmp_node = cur_node.next\n",
    "    cur_node.next, cur_node.prev = cur_node.prev, cur_node.next\n",
    "    cur_node = tmp_node\n",
    "\n",
    "new_head = cur_node\n",
    "new_head.next, new_head.prev = new_head.prev, new_head.next"
   ]
  },
  {
   "cell_type": "code",
   "execution_count": 37,
   "metadata": {},
   "outputs": [
    {
     "data": {
      "text/plain": [
       "3"
      ]
     },
     "execution_count": 37,
     "metadata": {},
     "output_type": "execute_result"
    }
   ],
   "source": [
    "new_head.next.data"
   ]
  },
  {
   "cell_type": "code",
   "execution_count": null,
   "metadata": {},
   "outputs": [],
   "source": [
    "def reverse(llist: DoublyLinkedListNode) -> DoublyLinkedListNode:\n",
    "    # Write your code here\n",
    "    cur_node = llist\n",
    "    while cur_node.next:\n",
    "        tmp_node = cur_node.next\n",
    "        cur_node.next, cur_node.prev = cur_node.prev, cur_node.next\n",
    "        cur_node = tmp_node\n",
    "\n",
    "    new_head = cur_node\n",
    "    new_head.next, new_head.prev = new_head.prev, new_head.next\n",
    "    return new_head"
   ]
  }
 ],
 "metadata": {
  "kernelspec": {
   "display_name": ".venv",
   "language": "python",
   "name": "python3"
  },
  "language_info": {
   "codemirror_mode": {
    "name": "ipython",
    "version": 3
   },
   "file_extension": ".py",
   "mimetype": "text/x-python",
   "name": "python",
   "nbconvert_exporter": "python",
   "pygments_lexer": "ipython3",
   "version": "3.10.9"
  },
  "orig_nbformat": 4,
  "vscode": {
   "interpreter": {
    "hash": "ae2d3659b3684f688dcecafa70fc576f1d22112b75078f64f7d72a545140f712"
   }
  }
 },
 "nbformat": 4,
 "nbformat_minor": 2
}
