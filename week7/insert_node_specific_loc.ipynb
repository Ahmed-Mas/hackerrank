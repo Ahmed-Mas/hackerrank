{
 "cells": [
  {
   "cell_type": "code",
   "execution_count": 2,
   "metadata": {},
   "outputs": [],
   "source": [
    "class SinglyLinkedListNode():\n",
    "    def __init__(self, data) -> None:\n",
    "        self.data = data\n",
    "        self.next = None\n"
   ]
  },
  {
   "cell_type": "code",
   "execution_count": 3,
   "metadata": {},
   "outputs": [],
   "source": [
    "def insertNodeAtPosition(llist: SinglyLinkedListNode, data: int, position: int) -> SinglyLinkedListNode:\n",
    "    if position == 0: \n",
    "        node = SinglyLinkedListNode(data)\n",
    "        node.next = llist\n",
    "        return node\n",
    "    \n",
    "    cur_node = llist\n",
    "    cur_pos = 0\n",
    "    while cur_node.next:\n",
    "        if cur_pos == position - 1:\n",
    "            tmp = cur_node.next\n",
    "            \n",
    "            node = SinglyLinkedListNode(data)\n",
    "            node.next = tmp\n",
    "            cur_node.next = node\n",
    "            break\n",
    "        cur_node = cur_node.next\n",
    "        cur_pos += 1\n",
    "    return llist\n"
   ]
  },
  {
   "cell_type": "code",
   "execution_count": null,
   "metadata": {},
   "outputs": [],
   "source": []
  }
 ],
 "metadata": {
  "kernelspec": {
   "display_name": ".venv",
   "language": "python",
   "name": "python3"
  },
  "language_info": {
   "codemirror_mode": {
    "name": "ipython",
    "version": 3
   },
   "file_extension": ".py",
   "mimetype": "text/x-python",
   "name": "python",
   "nbconvert_exporter": "python",
   "pygments_lexer": "ipython3",
   "version": "3.10.9"
  },
  "orig_nbformat": 4,
  "vscode": {
   "interpreter": {
    "hash": "ae2d3659b3684f688dcecafa70fc576f1d22112b75078f64f7d72a545140f712"
   }
  }
 },
 "nbformat": 4,
 "nbformat_minor": 2
}
