{
 "cells": [
  {
   "cell_type": "code",
   "execution_count": 1,
   "metadata": {},
   "outputs": [],
   "source": [
    "class SingleLinkedListNode():\n",
    "    def __init__(self, data) -> None:\n",
    "        self.data = data\n",
    "        self.next = None\n"
   ]
  },
  {
   "cell_type": "code",
   "execution_count": 20,
   "metadata": {},
   "outputs": [],
   "source": [
    "node1 = SingleLinkedListNode(1)\n",
    "node2 = SingleLinkedListNode(2)\n",
    "node3 = SingleLinkedListNode(3)\n",
    "node4 = SingleLinkedListNode(4)\n",
    "\n",
    "node1.next = node2\n",
    "node2.next = node3\n",
    "node3.next = node4\n"
   ]
  },
  {
   "cell_type": "code",
   "execution_count": 11,
   "metadata": {},
   "outputs": [],
   "source": [
    "nodes = []\n",
    "cur_node = node1\n",
    "while cur_node:\n",
    "    nodes.append(cur_node)\n",
    "    cur_node = cur_node.next\n"
   ]
  },
  {
   "cell_type": "code",
   "execution_count": 12,
   "metadata": {},
   "outputs": [
    {
     "data": {
      "text/plain": [
       "[<__main__.SingleLinkedListNode at 0x11320c910>,\n",
       " <__main__.SingleLinkedListNode at 0x11320c880>,\n",
       " <__main__.SingleLinkedListNode at 0x11320c310>,\n",
       " <__main__.SingleLinkedListNode at 0x11320c460>]"
      ]
     },
     "execution_count": 12,
     "metadata": {},
     "output_type": "execute_result"
    }
   ],
   "source": [
    "nodes"
   ]
  },
  {
   "cell_type": "code",
   "execution_count": 15,
   "metadata": {},
   "outputs": [
    {
     "data": {
      "text/plain": [
       "-2"
      ]
     },
     "execution_count": 15,
     "metadata": {},
     "output_type": "execute_result"
    }
   ],
   "source": [
    "~0 - 1"
   ]
  },
  {
   "cell_type": "code",
   "execution_count": null,
   "metadata": {},
   "outputs": [],
   "source": [
    "for i in range(len(nodes[::-1]) - 1):\n",
    "    nodes[i].next = nodes[i + 1]\n",
    "\n",
    "nodes[0].next = None\n",
    "nodes[-1]"
   ]
  },
  {
   "cell_type": "code",
   "execution_count": 16,
   "metadata": {},
   "outputs": [],
   "source": [
    "def reverse(llist: SingleLinkedListNode) -> SingleLinkedListNode:\n",
    "    # Write your code here\n",
    "    nodes = []\n",
    "    cur_node = llist\n",
    "    while cur_node:\n",
    "        nodes.append(cur_node)\n",
    "        cur_node = cur_node.next\n",
    "    \n",
    "    for i in range(len(nodes) - 1):\n",
    "        nodes[~i].next = nodes[~i - 1]\n",
    "\n",
    "    nodes[0].next = None\n",
    "    return nodes[-1]"
   ]
  },
  {
   "cell_type": "code",
   "execution_count": null,
   "metadata": {},
   "outputs": [],
   "source": [
    "1 - 2 - 3 - 4"
   ]
  },
  {
   "cell_type": "code",
   "execution_count": 21,
   "metadata": {},
   "outputs": [],
   "source": [
    "# this is a better implementation. No need for memory\n",
    "def reverse(llist):\n",
    "    cur = nxt = llist\n",
    "    prev = None\n",
    "\n",
    "    while cur:\n",
    "        nxt = cur.next\n",
    "        cur.next = prev\n",
    "        prev = cur\n",
    "        cur = nxt\n",
    "\n",
    "    return prev\n",
    "    "
   ]
  },
  {
   "cell_type": "code",
   "execution_count": null,
   "metadata": {},
   "outputs": [],
   "source": []
  }
 ],
 "metadata": {
  "kernelspec": {
   "display_name": ".venv",
   "language": "python",
   "name": "python3"
  },
  "language_info": {
   "codemirror_mode": {
    "name": "ipython",
    "version": 3
   },
   "file_extension": ".py",
   "mimetype": "text/x-python",
   "name": "python",
   "nbconvert_exporter": "python",
   "pygments_lexer": "ipython3",
   "version": "3.10.9"
  },
  "orig_nbformat": 4,
  "vscode": {
   "interpreter": {
    "hash": "ae2d3659b3684f688dcecafa70fc576f1d22112b75078f64f7d72a545140f712"
   }
  }
 },
 "nbformat": 4,
 "nbformat_minor": 2
}
