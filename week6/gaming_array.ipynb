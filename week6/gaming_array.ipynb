{
 "cells": [
  {
   "cell_type": "code",
   "execution_count": 129,
   "metadata": {},
   "outputs": [],
   "source": [
    "arr = [2,3,5,4,1]\n",
    "arr = [5, 2, 6, 3, 4]\n",
    "arr = [3, 1]"
   ]
  },
  {
   "cell_type": "code",
   "execution_count": 2,
   "metadata": {},
   "outputs": [
    {
     "name": "stdout",
     "output_type": "stream",
     "text": [
      "[2, 3, 5, 4, 1] BOB\n",
      "[2, 3] ANDY\n",
      "[2] BOB\n",
      "BOB\n"
     ]
    }
   ],
   "source": [
    "player = 'BOB'\n",
    "\n",
    "while arr:\n",
    "    print(arr, player)\n",
    "    arr = arr[:arr.index(max(arr))]\n",
    "    if not arr: print(player)\n",
    "    player = 'BOB' if player == 'ANDY' else 'ANDY'"
   ]
  },
  {
   "cell_type": "code",
   "execution_count": null,
   "metadata": {},
   "outputs": [],
   "source": [
    "def gamingArray(arr: list[int]) -> str:\n",
    "    # Write your code here\n",
    "    i = peaks = cur_max = 0\n",
    "    while i < len(arr):\n",
    "        if arr[i] > cur_max:\n",
    "            peaks += 1\n",
    "            cur_max = arr[i]\n",
    "        i += 1\n",
    "    return 'ANDY' if peaks % 2 == 0 else 'BOB'"
   ]
  },
  {
   "cell_type": "code",
   "execution_count": 135,
   "metadata": {},
   "outputs": [
    {
     "data": {
      "text/plain": [
       "False"
      ]
     },
     "execution_count": 135,
     "metadata": {},
     "output_type": "execute_result"
    }
   ],
   "source": [
    "peaks % 2 == 0"
   ]
  },
  {
   "cell_type": "code",
   "execution_count": 19,
   "metadata": {},
   "outputs": [
    {
     "name": "stdout",
     "output_type": "stream",
     "text": [
      "[5, 2, 6, 3, 4]\n",
      "[5, 2]\n",
      "BOB\n"
     ]
    }
   ],
   "source": [
    "while arr:\n",
    "    print(arr)\n",
    "    index_max = 0\n",
    "    for i in range(len(arr)):\n",
    "        if arr[i] > arr[index_max]:\n",
    "            index_max = i\n",
    "    arr = arr[:index_max]\n",
    "    if not arr: print(player)\n",
    "    player = 'BOB' if player == 'ANDY' else 'BOB'\n"
   ]
  },
  {
   "cell_type": "code",
   "execution_count": 9,
   "metadata": {},
   "outputs": [
    {
     "data": {
      "text/plain": [
       "-1"
      ]
     },
     "execution_count": 9,
     "metadata": {},
     "output_type": "execute_result"
    }
   ],
   "source": [
    "index_max"
   ]
  },
  {
   "cell_type": "code",
   "execution_count": 10,
   "metadata": {},
   "outputs": [
    {
     "data": {
      "text/plain": [
       "[]"
      ]
     },
     "execution_count": 10,
     "metadata": {},
     "output_type": "execute_result"
    }
   ],
   "source": [
    "arr"
   ]
  },
  {
   "cell_type": "code",
   "execution_count": null,
   "metadata": {},
   "outputs": [],
   "source": []
  }
 ],
 "metadata": {
  "kernelspec": {
   "display_name": ".venv",
   "language": "python",
   "name": "python3"
  },
  "language_info": {
   "codemirror_mode": {
    "name": "ipython",
    "version": 3
   },
   "file_extension": ".py",
   "mimetype": "text/x-python",
   "name": "python",
   "nbconvert_exporter": "python",
   "pygments_lexer": "ipython3",
   "version": "3.10.9"
  },
  "orig_nbformat": 4,
  "vscode": {
   "interpreter": {
    "hash": "ae2d3659b3684f688dcecafa70fc576f1d22112b75078f64f7d72a545140f712"
   }
  }
 },
 "nbformat": 4,
 "nbformat_minor": 2
}
