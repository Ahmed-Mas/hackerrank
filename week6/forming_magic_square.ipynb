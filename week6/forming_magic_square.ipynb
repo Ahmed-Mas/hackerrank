{
 "cells": [
  {
   "attachments": {},
   "cell_type": "markdown",
   "metadata": {},
   "source": [
    "Not a great problem as there are a specific limited set of actual \"Magic Squares\" that you have to know before solving this problem"
   ]
  },
  {
   "cell_type": "code",
   "execution_count": 19,
   "metadata": {},
   "outputs": [],
   "source": [
    "magic = [\n",
    "    [[8,1,6], [3,5,7], [4,9,2]],\n",
    "    [[6,7,2],[1,5,9],[8,3,4]],\n",
    "    [[2,9,4],[7,5,3],[6,1,8]],\n",
    "    [[4,3,8],[9,5,1],[2,7,6]],\n",
    "    [[6,1,8],[7,5,3],[2,9,4]],\n",
    "    [[2,7,6],[9,5,1],[4,3,8]],\n",
    "    [[4,9,2],[3,5,7],[8,1,6]],\n",
    "    [[8,3,4], [1,5,9], [6,7,2]],\n",
    "]"
   ]
  },
  {
   "cell_type": "code",
   "execution_count": 21,
   "metadata": {},
   "outputs": [],
   "source": [
    "s = [[5, 3, 4], [1, 5, 8], [6, 4, 2]] "
   ]
  },
  {
   "cell_type": "code",
   "execution_count": 24,
   "metadata": {},
   "outputs": [
    {
     "data": {
      "text/plain": [
       "[8, 1, 6]"
      ]
     },
     "execution_count": 24,
     "metadata": {},
     "output_type": "execute_result"
    }
   ],
   "source": [
    "magic[0][0]"
   ]
  },
  {
   "cell_type": "code",
   "execution_count": 26,
   "metadata": {},
   "outputs": [],
   "source": [
    "cost = float('inf')\n",
    "for msquare in magic:\n",
    "    temp_cost = 0\n",
    "    for x in range(len(s)):\n",
    "        for y in range(len(s)):\n",
    "            temp_cost += abs(s[x][y] - msquare[x][y])\n",
    "    cost = min(cost, temp_cost)\n",
    "\n"
   ]
  },
  {
   "cell_type": "code",
   "execution_count": 27,
   "metadata": {},
   "outputs": [
    {
     "data": {
      "text/plain": [
       "[17, 13, 29, 31, 29, 33, 21, 7]"
      ]
     },
     "execution_count": 27,
     "metadata": {},
     "output_type": "execute_result"
    }
   ],
   "source": [
    "costs"
   ]
  },
  {
   "cell_type": "code",
   "execution_count": 28,
   "metadata": {},
   "outputs": [],
   "source": [
    "def formingMagicSquare(s):\n",
    "    # Write your code here\n",
    "    min_cost = float('inf')\n",
    "    for msquare in magic:\n",
    "        temp_cost = []\n",
    "        for x in range(len(s)):\n",
    "            for y in range(len(s)):\n",
    "                temp_cost.append(abs(s[x][y] - msquare[x][y]))\n",
    "        cost = sum(temp_cost)\n",
    "        if cost < min_cost: min_cost = cost\n",
    "    return min_cost\n"
   ]
  },
  {
   "cell_type": "code",
   "execution_count": 29,
   "metadata": {},
   "outputs": [
    {
     "data": {
      "text/plain": [
       "7"
      ]
     },
     "execution_count": 29,
     "metadata": {},
     "output_type": "execute_result"
    }
   ],
   "source": [
    "formingMagicSquare(s)"
   ]
  },
  {
   "cell_type": "code",
   "execution_count": null,
   "metadata": {},
   "outputs": [],
   "source": []
  }
 ],
 "metadata": {
  "kernelspec": {
   "display_name": ".venv",
   "language": "python",
   "name": "python3"
  },
  "language_info": {
   "codemirror_mode": {
    "name": "ipython",
    "version": 3
   },
   "file_extension": ".py",
   "mimetype": "text/x-python",
   "name": "python",
   "nbconvert_exporter": "python",
   "pygments_lexer": "ipython3",
   "version": "3.10.9"
  },
  "orig_nbformat": 4,
  "vscode": {
   "interpreter": {
    "hash": "ae2d3659b3684f688dcecafa70fc576f1d22112b75078f64f7d72a545140f712"
   }
  }
 },
 "nbformat": 4,
 "nbformat_minor": 2
}
