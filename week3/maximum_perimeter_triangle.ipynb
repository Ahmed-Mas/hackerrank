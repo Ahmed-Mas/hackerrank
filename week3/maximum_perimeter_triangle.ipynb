{
 "cells": [
  {
   "cell_type": "code",
   "execution_count": 57,
   "metadata": {},
   "outputs": [],
   "source": [
    "sticks = [3,4,5,2,4,6]"
   ]
  },
  {
   "cell_type": "code",
   "execution_count": 59,
   "metadata": {},
   "outputs": [],
   "source": [
    "def maximumPerimeterTriangle(sticks):\n",
    "    # Write your code here\n",
    "\n",
    "    max_perim = [-1]\n",
    "    x = y = z = 0\n",
    "    while x < len(sticks):\n",
    "        while y < len(sticks):\n",
    "            if x == y:\n",
    "                y += 1\n",
    "                continue\n",
    "\n",
    "            while z < len(sticks):\n",
    "                temp_tri = [sticks[x], sticks[y], sticks[z]]\n",
    "\n",
    "                if (\n",
    "                        (\n",
    "                            z == x or z == y  # dont use the same stick twice\n",
    "                        ) or (\n",
    "                            temp_tri[0] + temp_tri[1] <= temp_tri[2] \\\n",
    "                            or temp_tri[1] + temp_tri[2] <= temp_tri[0] \\\n",
    "                            or temp_tri[0] + temp_tri[2] <= temp_tri[1]\n",
    "                        )  # requirements to be considered non-degenerative triangle\n",
    "                ):\n",
    "                    z += 1\n",
    "                    continue\n",
    "\n",
    "                if (\n",
    "                        (\n",
    "                            sum(temp_tri) > sum(max_perim)\n",
    "                        ) \n",
    "                        or (\n",
    "                            sum(temp_tri) == sum(max_perim) and min(temp_tri) < min(max_perim)  # edge case of multi triangles, one with smaller side\n",
    "                        )\n",
    "                    ): \n",
    "                    max_perim = temp_tri\n",
    "                z += 1\n",
    "            y += 1\n",
    "            z = 0\n",
    "        x += 1\n",
    "        y = 0\n",
    "    \n",
    "    return max_perim"
   ]
  },
  {
   "cell_type": "code",
   "execution_count": 60,
   "metadata": {},
   "outputs": [
    {
     "data": {
      "text/plain": [
       "[4, 5, 6]"
      ]
     },
     "execution_count": 60,
     "metadata": {},
     "output_type": "execute_result"
    }
   ],
   "source": [
    "maximumPerimeterTriangle(sticks)"
   ]
  },
  {
   "cell_type": "code",
   "execution_count": 50,
   "metadata": {},
   "outputs": [],
   "source": [
    "from itertools import combinations"
   ]
  },
  {
   "cell_type": "code",
   "execution_count": 69,
   "metadata": {},
   "outputs": [],
   "source": [
    "def maximumPerimeterTriangle(sticks: list[int]) -> list[int]:\n",
    "    # Write your code here\n",
    "\n",
    "    max_tri = [-1]\n",
    "    max_perim = 0\n",
    "    \n",
    "    for cur_tri in combinations(sticks, 3):  # combination makes code way simpler\n",
    "        if cur_tri[0] + cur_tri[1] <= cur_tri[2] \\\n",
    "            or cur_tri[0] + cur_tri[2] <= cur_tri[1] \\\n",
    "            or cur_tri[1] + cur_tri[2] <= cur_tri[0]:  # testing for non-degen triangles\n",
    "            continue\n",
    "        \n",
    "        cur_perim = sum(cur_tri)\n",
    "        if cur_perim > max_perim \\\n",
    "            or (cur_perim == max_perim and min(cur_tri) < min(max_tri)):  # edge case handling\n",
    "            max_tri = cur_tri\n",
    "            max_perim = cur_perim\n",
    "    \n",
    "    max_tri = list(max_tri)\n",
    "    max_tri.sort()\n",
    "    return max_tri"
   ]
  },
  {
   "cell_type": "code",
   "execution_count": 70,
   "metadata": {},
   "outputs": [
    {
     "data": {
      "text/plain": [
       "[4, 5, 6]"
      ]
     },
     "execution_count": 70,
     "metadata": {},
     "output_type": "execute_result"
    }
   ],
   "source": [
    "maximumPerimeterTriangle(sticks)"
   ]
  },
  {
   "cell_type": "code",
   "execution_count": null,
   "metadata": {},
   "outputs": [],
   "source": []
  }
 ],
 "metadata": {
  "kernelspec": {
   "display_name": ".venv",
   "language": "python",
   "name": "python3"
  },
  "language_info": {
   "codemirror_mode": {
    "name": "ipython",
    "version": 3
   },
   "file_extension": ".py",
   "mimetype": "text/x-python",
   "name": "python",
   "nbconvert_exporter": "python",
   "pygments_lexer": "ipython3",
   "version": "3.10.9"
  },
  "orig_nbformat": 4,
  "vscode": {
   "interpreter": {
    "hash": "ae2d3659b3684f688dcecafa70fc576f1d22112b75078f64f7d72a545140f712"
   }
  }
 },
 "nbformat": 4,
 "nbformat_minor": 2
}
