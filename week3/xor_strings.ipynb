{
 "cells": [
  {
   "cell_type": "code",
   "execution_count": null,
   "metadata": {},
   "outputs": [],
   "source": [
    "def strings_xor(s: str, t: str) -> str:\n",
    "    res = \"\"\n",
    "    for i in range(len(s)):\n",
    "        if s[i] == t[i]:\n",
    "            res += '0'\n",
    "        else:\n",
    "            res += '1'\n",
    "\n",
    "    return res\n",
    "\n",
    "s = input()\n",
    "t = input()\n",
    "print(strings_xor(s, t))\n"
   ]
  }
 ],
 "metadata": {
  "language_info": {
   "name": "python"
  },
  "orig_nbformat": 4
 },
 "nbformat": 4,
 "nbformat_minor": 2
}
