{
 "cells": [
  {
   "cell_type": "code",
   "execution_count": 32,
   "metadata": {},
   "outputs": [],
   "source": [
    "arr = [33,11,44,11,55]\n",
    "queries = [1,2,3,4,5]"
   ]
  },
  {
   "cell_type": "code",
   "execution_count": 33,
   "metadata": {},
   "outputs": [],
   "source": [
    "# works but it pretty slow\n",
    "\n",
    "res = []\n",
    "for q in queries:\n",
    "    j = 0\n",
    "    smallest = float('inf')\n",
    "    while j + q <= len(arr):\n",
    "        big = max(arr[j:j+q])\n",
    "        smallest = min(smallest, big)\n",
    "        j += 1\n",
    "    res.append(smallest)\n",
    "    "
   ]
  },
  {
   "cell_type": "code",
   "execution_count": 34,
   "metadata": {},
   "outputs": [
    {
     "data": {
      "text/plain": [
       "[11, 33, 44, 44, 55]"
      ]
     },
     "execution_count": 34,
     "metadata": {},
     "output_type": "execute_result"
    }
   ],
   "source": [
    "res"
   ]
  },
  {
   "cell_type": "code",
   "execution_count": 35,
   "metadata": {},
   "outputs": [],
   "source": [
    "# runs in O(n). Much faster than above, the key here is that we check if we've left the max of the last window\n",
    "# once we've left the max of the last window, we calculate a new max based on the current window\n",
    "\n",
    "def fixed_length_quries(arr: list[int], queries: list[int]) -> list[int]:\n",
    "    result = []\n",
    "    for q in queries:\n",
    "        max_num = max(arr[:q])\n",
    "        min_num = max_num\n",
    "\n",
    "        for i in range(q, len(arr)):\n",
    "            if arr[i-q] == max_num:\n",
    "                max_num = max(arr[i-q+1:i+1])\n",
    "            elif arr[i] > max_num:\n",
    "                max_num = arr[i]\n",
    "            \n",
    "            if max_num < min_num:\n",
    "                min_num = max_num\n",
    "        result.append(min_num)\n",
    "    return result"
   ]
  }
 ],
 "metadata": {
  "kernelspec": {
   "display_name": ".venv",
   "language": "python",
   "name": "python3"
  },
  "language_info": {
   "codemirror_mode": {
    "name": "ipython",
    "version": 3
   },
   "file_extension": ".py",
   "mimetype": "text/x-python",
   "name": "python",
   "nbconvert_exporter": "python",
   "pygments_lexer": "ipython3",
   "version": "3.10.9"
  },
  "orig_nbformat": 4
 },
 "nbformat": 4,
 "nbformat_minor": 2
}
