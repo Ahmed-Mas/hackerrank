{
 "cells": [
  {
   "cell_type": "code",
   "execution_count": 83,
   "metadata": {},
   "outputs": [],
   "source": [
    "s = '932239'\n",
    "n = len(s)\n",
    "k = 2"
   ]
  },
  {
   "cell_type": "code",
   "execution_count": 84,
   "metadata": {},
   "outputs": [
    {
     "data": {
      "text/plain": [
       "('932', '239')"
      ]
     },
     "execution_count": 84,
     "metadata": {},
     "output_type": "execute_result"
    }
   ],
   "source": [
    "left, right = s[:n//2], s[n//2 + n%2:]\n",
    "left, right"
   ]
  },
  {
   "cell_type": "code",
   "execution_count": 85,
   "metadata": {},
   "outputs": [],
   "source": [
    "left, right = [c for c in s[:n//2]], [c for c in s[n//2 + n%2:]]\n",
    "mismath_i = []\n",
    "difs = 0\n",
    "for i, (l, r) in enumerate(zip(left, right[::-1])):\n",
    "    if l == r: continue\n",
    "    mismath_i.append(i)\n",
    "    difs += 1"
   ]
  },
  {
   "cell_type": "code",
   "execution_count": 86,
   "metadata": {},
   "outputs": [
    {
     "data": {
      "text/plain": [
       "(['9', '3', '2'], ['2', '3', '9'], [], 0)"
      ]
     },
     "execution_count": 86,
     "metadata": {},
     "output_type": "execute_result"
    }
   ],
   "source": [
    "left, right, mismath_i, difs"
   ]
  },
  {
   "cell_type": "code",
   "execution_count": 87,
   "metadata": {},
   "outputs": [],
   "source": [
    "for idx in mismath_i:\n",
    "    bigger = max(left[idx], right[~idx])\n",
    "    left[idx] = bigger\n",
    "    right[~idx] = bigger\n",
    "    k -= 1"
   ]
  },
  {
   "cell_type": "code",
   "execution_count": 88,
   "metadata": {},
   "outputs": [
    {
     "data": {
      "text/plain": [
       "(['9', '3', '2'], ['2', '3', '9'], [], 2)"
      ]
     },
     "execution_count": 88,
     "metadata": {},
     "output_type": "execute_result"
    }
   ],
   "source": [
    "left, right, mismath_i, k"
   ]
  },
  {
   "cell_type": "code",
   "execution_count": 81,
   "metadata": {},
   "outputs": [],
   "source": [
    "i = 0\n",
    "while k > 0 and i < len(left):\n",
    "    if left[i] == '9': \n",
    "        i += 1\n",
    "        continue\n",
    "    if i in mismath_i:\n",
    "        left[i] = '9'\n",
    "        right[~i] = '9'\n",
    "        k -= 1\n",
    "    elif k >= 2:\n",
    "        left[i] = '9'\n",
    "        right[~i] = '9'\n",
    "        k -= 2\n",
    "    i += 1"
   ]
  },
  {
   "cell_type": "code",
   "execution_count": 82,
   "metadata": {},
   "outputs": [
    {
     "data": {
      "text/plain": [
       "(['9', '9', '2'], ['2', '9', '9'])"
      ]
     },
     "execution_count": 82,
     "metadata": {},
     "output_type": "execute_result"
    }
   ],
   "source": [
    "left, right"
   ]
  },
  {
   "cell_type": "code",
   "execution_count": null,
   "metadata": {},
   "outputs": [],
   "source": [
    "def highestValuePalindrome(s, n, k):\n",
    "    # Write your code here\n",
    "    left, right = s[:n//2], s[n//2 + n%2:]\n",
    "    difs = sum([l != r for l, r in zip(left, right)])\n",
    "    if difs > k: return -1\n",
    "\n",
    "    "
   ]
  }
 ],
 "metadata": {
  "kernelspec": {
   "display_name": ".venv",
   "language": "python",
   "name": "python3"
  },
  "language_info": {
   "codemirror_mode": {
    "name": "ipython",
    "version": 3
   },
   "file_extension": ".py",
   "mimetype": "text/x-python",
   "name": "python",
   "nbconvert_exporter": "python",
   "pygments_lexer": "ipython3",
   "version": "3.10.9"
  },
  "orig_nbformat": 4,
  "vscode": {
   "interpreter": {
    "hash": "ae2d3659b3684f688dcecafa70fc576f1d22112b75078f64f7d72a545140f712"
   }
  }
 },
 "nbformat": 4,
 "nbformat_minor": 2
}
