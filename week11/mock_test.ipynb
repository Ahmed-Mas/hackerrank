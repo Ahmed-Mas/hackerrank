{
 "cells": [
  {
   "cell_type": "code",
   "execution_count": 37,
   "metadata": {},
   "outputs": [],
   "source": [
    "grid = [\n",
    "    [1, 1, 0, 0], \n",
    "    [0, 1, 1, 0],\n",
    "    [0, 0, 1, 0], \n",
    "    [1, 0, 0, 0]\n",
    "]\n"
   ]
  },
  {
   "cell_type": "code",
   "execution_count": 65,
   "metadata": {},
   "outputs": [],
   "source": [
    "# grid search problem. So have to use BFS or DFS to count the number of connected regions.\n",
    "# count number of cells connected in a region, keep max\n",
    "# this will run in O(MxN) since it has to touch every cell in every row (M) and column (N)\n",
    "visited = set()\n",
    "\n",
    "x = y = 0\n",
    "region_size = 0\n",
    "while x < len(grid):\n",
    "    while y < len(grid[0]):\n",
    "        if (x, y) in visited:\n",
    "            y += 1\n",
    "            continue\n",
    "\n",
    "        if grid[x][y] == 0:\n",
    "            visited.add((x, y))\n",
    "            y += 1\n",
    "            continue\n",
    "\n",
    "        queue = [(x, y)]\n",
    "        size = 0\n",
    "        while queue:\n",
    "            cur_x, cur_y = queue.pop()\n",
    "\n",
    "            if (cur_x, cur_y) in visited: continue\n",
    "            if 0 > cur_x or cur_x >= len(grid): continue\n",
    "            if 0 > cur_y or cur_y >= len(grid[0]): continue\n",
    "            \n",
    "            visited.add((cur_x, cur_y))\n",
    "            if grid[cur_x][cur_y] == 0: continue\n",
    "            \n",
    "            size += 1\n",
    "            for i in [-1,0,1]:\n",
    "                for j in [-1,0,1]:\n",
    "                    if (cur_x + i, cur_y + j) not in visited:\n",
    "                        queue.insert(0, (cur_x + i, cur_y + j))\n",
    "\n",
    "        region_size = max(region_size, size)\n",
    "        y +=1\n",
    "    x += 1\n",
    "    y = 0\n"
   ]
  },
  {
   "cell_type": "code",
   "execution_count": 66,
   "metadata": {},
   "outputs": [
    {
     "data": {
      "text/plain": [
       "5"
      ]
     },
     "execution_count": 66,
     "metadata": {},
     "output_type": "execute_result"
    }
   ],
   "source": [
    "region_size"
   ]
  },
  {
   "cell_type": "code",
   "execution_count": 27,
   "metadata": {},
   "outputs": [
    {
     "data": {
      "text/plain": [
       "[[1, 1, 0, 0], [0, 1, 1, 0], [0, 0, 1, 0], [1, 0, 0, 0]]"
      ]
     },
     "execution_count": 27,
     "metadata": {},
     "output_type": "execute_result"
    }
   ],
   "source": [
    "grid\n",
    "[\n",
    "    [1, 1, 0, 0], \n",
    "    [0, 1, 1, 0],\n",
    "    [0, 0, 1, 0], \n",
    "    [1, 0, 0, 0]]"
   ]
  },
  {
   "cell_type": "code",
   "execution_count": 29,
   "metadata": {},
   "outputs": [
    {
     "data": {
      "text/plain": [
       "1"
      ]
     },
     "execution_count": 29,
     "metadata": {},
     "output_type": "execute_result"
    }
   ],
   "source": [
    "grid[1][1]"
   ]
  },
  {
   "cell_type": "code",
   "execution_count": 30,
   "metadata": {},
   "outputs": [
    {
     "name": "stdout",
     "output_type": "stream",
     "text": [
      "1\n",
      "1\n",
      "0\n",
      "0\n",
      "1\n",
      "1\n",
      "0\n",
      "0\n",
      "1\n"
     ]
    }
   ],
   "source": [
    "for i in [-1, 0, 1]:\n",
    "    for j in [-1, 0, 1]:\n",
    "        print(grid[1 + i][1 + j])"
   ]
  },
  {
   "cell_type": "code",
   "execution_count": null,
   "metadata": {},
   "outputs": [],
   "source": []
  }
 ],
 "metadata": {
  "kernelspec": {
   "display_name": ".venv",
   "language": "python",
   "name": "python3"
  },
  "language_info": {
   "codemirror_mode": {
    "name": "ipython",
    "version": 3
   },
   "file_extension": ".py",
   "mimetype": "text/x-python",
   "name": "python",
   "nbconvert_exporter": "python",
   "pygments_lexer": "ipython3",
   "version": "3.10.9"
  },
  "orig_nbformat": 4
 },
 "nbformat": 4,
 "nbformat_minor": 2
}
