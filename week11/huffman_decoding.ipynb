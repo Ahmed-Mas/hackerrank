{
 "cells": [
  {
   "cell_type": "code",
   "execution_count": 22,
   "metadata": {},
   "outputs": [],
   "source": [
    "# leaves = {\n",
    "#     'A': ('0', 5),\n",
    "#     'B': ('111', 2),\n",
    "#     'C': ('1100', 1),\n",
    "#     'D': ('1101', 1),\n",
    "#     'R': ('10', 10)\n",
    "# }\n",
    "\n",
    "leaves = {\n",
    "    '0': ('A', 5),\n",
    "    '111': ('B', 2),\n",
    "    '1100': ('C', 1),\n",
    "    '1101': ('D', 1),\n",
    "    '10': ('R', 10)\n",
    "}\n",
    "\n",
    "s = '01111001100011010111100'"
   ]
  },
  {
   "cell_type": "code",
   "execution_count": 51,
   "metadata": {},
   "outputs": [],
   "source": [
    "# two parts. 1: get the codes, letters and frequencies out of the tree\n",
    "# 2: decode the encoded string using the gotten codes\n",
    "\n",
    "def decodeHuff(root, s):\n",
    "    #Enter Your Code Here\n",
    "    leaves = {}\n",
    "    def recursive(node, code):\n",
    "        if not node: return\n",
    "        recursive(node.left, code + '0')\n",
    "        recursive(node.right, code + '1')\n",
    "        if not node.left and not node.right:\n",
    "            leaves[code] = (node.data, node.freq)\n",
    "            \n",
    "    recursive(root, '')\n",
    "    i = 0\n",
    "    ans = ''\n",
    "    while i < len(s):\n",
    "        j = i + 1\n",
    "        while j < len(s) and s[i:j] not in leaves:\n",
    "            j += 1\n",
    "        ans += leaves[s[i:j]][0]\n",
    "        i = j\n",
    "    print(ans)\n"
   ]
  },
  {
   "cell_type": "code",
   "execution_count": 52,
   "metadata": {},
   "outputs": [
    {
     "data": {
      "text/plain": [
       "(23, 23)"
      ]
     },
     "execution_count": 52,
     "metadata": {},
     "output_type": "execute_result"
    }
   ],
   "source": [
    "i, j"
   ]
  },
  {
   "cell_type": "code",
   "execution_count": 53,
   "metadata": {},
   "outputs": [
    {
     "data": {
      "text/plain": [
       "'ABRACADABRA'"
      ]
     },
     "execution_count": 53,
     "metadata": {},
     "output_type": "execute_result"
    }
   ],
   "source": [
    "ans"
   ]
  },
  {
   "cell_type": "code",
   "execution_count": null,
   "metadata": {},
   "outputs": [],
   "source": []
  }
 ],
 "metadata": {
  "kernelspec": {
   "display_name": ".venv",
   "language": "python",
   "name": "python3"
  },
  "language_info": {
   "codemirror_mode": {
    "name": "ipython",
    "version": 3
   },
   "file_extension": ".py",
   "mimetype": "text/x-python",
   "name": "python",
   "nbconvert_exporter": "python",
   "pygments_lexer": "ipython3",
   "version": "3.10.9"
  },
  "orig_nbformat": 4,
  "vscode": {
   "interpreter": {
    "hash": "ae2d3659b3684f688dcecafa70fc576f1d22112b75078f64f7d72a545140f712"
   }
  }
 },
 "nbformat": 4,
 "nbformat_minor": 2
}
