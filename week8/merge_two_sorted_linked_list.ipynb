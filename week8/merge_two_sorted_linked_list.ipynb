{
 "cells": [
  {
   "cell_type": "code",
   "execution_count": 121,
   "metadata": {},
   "outputs": [],
   "source": [
    "class SinglyLinkedListNode:\n",
    "    def __init__(self, data, nxt=None) -> None:\n",
    "        self.data = data\n",
    "        self.next = nxt"
   ]
  },
  {
   "cell_type": "code",
   "execution_count": 194,
   "metadata": {},
   "outputs": [],
   "source": [
    "head1 = SinglyLinkedListNode(\n",
    "    data=5,\n",
    "    nxt=SinglyLinkedListNode(\n",
    "        data=5,\n",
    "        nxt=SinglyLinkedListNode(\n",
    "            data=7,\n",
    "            nxt=SinglyLinkedListNode(\n",
    "                data=7,\n",
    "                nxt=SinglyLinkedListNode(\n",
    "                    data=7,\n",
    "                    nxt=SinglyLinkedListNode(\n",
    "                        data=7,\n",
    "                        nxt=SinglyLinkedListNode(\n",
    "                            data=7,\n",
    "                            nxt=SinglyLinkedListNode(\n",
    "                                data=10\n",
    "                            )\n",
    "                        )\n",
    "                    )\n",
    "                )\n",
    "            )\n",
    "        )\n",
    "    )\n",
    ")\n",
    "\n",
    "head2 = SinglyLinkedListNode(\n",
    "    data=3,\n",
    "    nxt=SinglyLinkedListNode(\n",
    "        data=8,\n",
    "        nxt=SinglyLinkedListNode(\n",
    "            data=9\n",
    "        )\n",
    "    )\n",
    ")\n"
   ]
  },
  {
   "cell_type": "code",
   "execution_count": 130,
   "metadata": {},
   "outputs": [],
   "source": [
    "def mergeLists(head1: SinglyLinkedListNode, head2: SinglyLinkedListNode) -> SinglyLinkedListNode:\n",
    "    if not head1 and not head2: return None\n",
    "    if not head1: return head2\n",
    "    if not head2: return head1\n",
    "\n",
    "    cur1, cur2 = head1, head2\n",
    "    \n",
    "    new_head = head1 if head1.data < head2.data else head2\n",
    "\n",
    "    nxt_link = new_head\n",
    "    \n",
    "    while cur1 and cur2:\n",
    "        if cur1.data < cur2.data:\n",
    "            nxt_link.next = cur1\n",
    "            cur1 = cur1.next\n",
    "        else:\n",
    "            nxt_link.next = cur2\n",
    "            cur2 = cur2.next\n",
    "\n",
    "    return new_head\n"
   ]
  },
  {
   "cell_type": "code",
   "execution_count": 195,
   "metadata": {},
   "outputs": [],
   "source": [
    "new_head = SinglyLinkedListNode(0)\n",
    "nxt_link = new_head\n",
    "\n",
    "if head1.data < head2.data:\n",
    "    nxt_link.next = head1\n",
    "    nxt_link = nxt_link.next\n",
    "    cur1 = head1.next\n",
    "    cur2 = head2\n",
    "else:\n",
    "    nxt_link.next = head2\n",
    "    nxt_link = nxt_link.next\n",
    "    cur1 = head1\n",
    "    cur2 = head2.next\n",
    "\n",
    "while cur1 and cur2:\n",
    "    if cur1.data <= cur2.data:\n",
    "        nxt_link.next = cur1\n",
    "        nxt_link = nxt_link.next\n",
    "        cur1 = cur1.next\n",
    "    else:\n",
    "        nxt_link.next = cur2\n",
    "        nxt_link = nxt_link.next\n",
    "        cur2 = cur2.next\n",
    "\n",
    "if cur1:\n",
    "    nxt_link.next = cur1\n",
    "elif cur2:\n",
    "    nxt_link.next = cur2\n",
    "\n",
    "    "
   ]
  },
  {
   "cell_type": "code",
   "execution_count": 197,
   "metadata": {},
   "outputs": [
    {
     "ename": "AttributeError",
     "evalue": "'NoneType' object has no attribute 'data'",
     "output_type": "error",
     "traceback": [
      "\u001b[0;31m---------------------------------------------------------------------------\u001b[0m",
      "\u001b[0;31mAttributeError\u001b[0m                            Traceback (most recent call last)",
      "Cell \u001b[0;32mIn[197], line 1\u001b[0m\n\u001b[0;32m----> 1\u001b[0m new_head\u001b[39m.\u001b[39;49mnext\u001b[39m.\u001b[39;49mnext\u001b[39m.\u001b[39;49mnext\u001b[39m.\u001b[39;49mnext\u001b[39m.\u001b[39;49mnext\u001b[39m.\u001b[39;49mnext\u001b[39m.\u001b[39;49mnext\u001b[39m.\u001b[39;49mnext\u001b[39m.\u001b[39;49mnext\u001b[39m.\u001b[39;49mnext\u001b[39m.\u001b[39;49mnext\u001b[39m.\u001b[39;49mnext\u001b[39m.\u001b[39;49mdata\n",
      "\u001b[0;31mAttributeError\u001b[0m: 'NoneType' object has no attribute 'data'"
     ]
    }
   ],
   "source": [
    "new_head.next.next.next.next.next.next.next.next.next.next.next.next.data"
   ]
  },
  {
   "cell_type": "code",
   "execution_count": 193,
   "metadata": {},
   "outputs": [],
   "source": [
    "nxt_link.next"
   ]
  },
  {
   "cell_type": "code",
   "execution_count": 189,
   "metadata": {},
   "outputs": [
    {
     "data": {
      "text/plain": [
       "10"
      ]
     },
     "execution_count": 189,
     "metadata": {},
     "output_type": "execute_result"
    }
   ],
   "source": [
    "cur1.data"
   ]
  },
  {
   "cell_type": "code",
   "execution_count": 190,
   "metadata": {},
   "outputs": [
    {
     "ename": "AttributeError",
     "evalue": "'NoneType' object has no attribute 'data'",
     "output_type": "error",
     "traceback": [
      "\u001b[0;31m---------------------------------------------------------------------------\u001b[0m",
      "\u001b[0;31mAttributeError\u001b[0m                            Traceback (most recent call last)",
      "Cell \u001b[0;32mIn[190], line 1\u001b[0m\n\u001b[0;32m----> 1\u001b[0m cur2\u001b[39m.\u001b[39;49mdata\n",
      "\u001b[0;31mAttributeError\u001b[0m: 'NoneType' object has no attribute 'data'"
     ]
    }
   ],
   "source": [
    "cur2.data"
   ]
  },
  {
   "cell_type": "code",
   "execution_count": 131,
   "metadata": {},
   "outputs": [
    {
     "ename": "KeyboardInterrupt",
     "evalue": "",
     "output_type": "error",
     "traceback": [
      "\u001b[0;31m---------------------------------------------------------------------------\u001b[0m",
      "\u001b[0;31mKeyboardInterrupt\u001b[0m                         Traceback (most recent call last)",
      "Cell \u001b[0;32mIn[131], line 1\u001b[0m\n\u001b[0;32m----> 1\u001b[0m res \u001b[39m=\u001b[39m mergeLists(head1, head2)\n",
      "Cell \u001b[0;32mIn[130], line 12\u001b[0m, in \u001b[0;36mmergeLists\u001b[0;34m(head1, head2)\u001b[0m\n\u001b[1;32m      8\u001b[0m new_head \u001b[39m=\u001b[39m head1 \u001b[39mif\u001b[39;00m head1\u001b[39m.\u001b[39mdata \u001b[39m<\u001b[39m head2\u001b[39m.\u001b[39mdata \u001b[39melse\u001b[39;00m head2\n\u001b[1;32m     10\u001b[0m nxt_link \u001b[39m=\u001b[39m new_head\n\u001b[0;32m---> 12\u001b[0m \u001b[39mwhile\u001b[39;00m cur1 \u001b[39mand\u001b[39;00m cur2:\n\u001b[1;32m     13\u001b[0m     \u001b[39mif\u001b[39;00m cur1\u001b[39m.\u001b[39mdata \u001b[39m<\u001b[39m cur2\u001b[39m.\u001b[39mdata:\n\u001b[1;32m     14\u001b[0m         nxt_link\u001b[39m.\u001b[39mnext \u001b[39m=\u001b[39m cur1\n",
      "\u001b[0;31mKeyboardInterrupt\u001b[0m: "
     ]
    }
   ],
   "source": [
    "res = mergeLists(head1, head2)"
   ]
  },
  {
   "cell_type": "code",
   "execution_count": 120,
   "metadata": {},
   "outputs": [
    {
     "data": {
      "text/plain": [
       "10"
      ]
     },
     "execution_count": 120,
     "metadata": {},
     "output_type": "execute_result"
    }
   ],
   "source": [
    "res.next.next.next.next.next.next.next.next.next.next.data"
   ]
  },
  {
   "cell_type": "code",
   "execution_count": null,
   "metadata": {},
   "outputs": [],
   "source": []
  }
 ],
 "metadata": {
  "kernelspec": {
   "display_name": ".venv",
   "language": "python",
   "name": "python3"
  },
  "language_info": {
   "codemirror_mode": {
    "name": "ipython",
    "version": 3
   },
   "file_extension": ".py",
   "mimetype": "text/x-python",
   "name": "python",
   "nbconvert_exporter": "python",
   "pygments_lexer": "ipython3",
   "version": "3.10.9"
  },
  "orig_nbformat": 4,
  "vscode": {
   "interpreter": {
    "hash": "ae2d3659b3684f688dcecafa70fc576f1d22112b75078f64f7d72a545140f712"
   }
  }
 },
 "nbformat": 4,
 "nbformat_minor": 2
}
