{
 "cells": [
  {
   "cell_type": "code",
   "execution_count": 76,
   "metadata": {},
   "outputs": [],
   "source": [
    "s = 'aa'"
   ]
  },
  {
   "cell_type": "code",
   "execution_count": 50,
   "metadata": {},
   "outputs": [
    {
     "data": {
      "text/plain": [
       "'oabbao'"
      ]
     },
     "execution_count": 50,
     "metadata": {},
     "output_type": "execute_result"
    }
   ],
   "source": [
    "s"
   ]
  },
  {
   "cell_type": "code",
   "execution_count": 10,
   "metadata": {},
   "outputs": [
    {
     "ename": "KeyboardInterrupt",
     "evalue": "",
     "output_type": "error",
     "traceback": [
      "\u001b[0;31m---------------------------------------------------------------------------\u001b[0m",
      "\u001b[0;31mKeyboardInterrupt\u001b[0m                         Traceback (most recent call last)",
      "Cell \u001b[0;32mIn[10], line 3\u001b[0m\n\u001b[1;32m      1\u001b[0m stack \u001b[39m=\u001b[39m [s[\u001b[39m0\u001b[39m]]\n\u001b[1;32m      2\u001b[0m i \u001b[39m=\u001b[39m \u001b[39m1\u001b[39m\n\u001b[0;32m----> 3\u001b[0m \u001b[39mwhile\u001b[39;00m i \u001b[39m<\u001b[39m \u001b[39mlen\u001b[39;49m(s):\n\u001b[1;32m      4\u001b[0m     \u001b[39mwhile\u001b[39;00m stack \u001b[39mand\u001b[39;00m i \u001b[39m<\u001b[39m \u001b[39mlen\u001b[39m(s):\n\u001b[1;32m      5\u001b[0m         cur \u001b[39m=\u001b[39m stack[\u001b[39m-\u001b[39m\u001b[39m1\u001b[39m]\n",
      "\u001b[0;31mKeyboardInterrupt\u001b[0m: "
     ]
    }
   ],
   "source": [
    "i = 1\n",
    "cur = stack[-1]\n",
    "if cur == s[i]: \n",
    "    stack.pop()\n",
    "else: \n",
    "    stack.append(s[i])\n",
    "i += 1\n"
   ]
  },
  {
   "cell_type": "code",
   "execution_count": 77,
   "metadata": {},
   "outputs": [],
   "source": [
    "stack = [s[0]]\n",
    "i = 1\n",
    "while i < len(s):\n",
    "    while stack and i < len(s):\n",
    "        cur = stack[-1]\n",
    "        if cur == s[i]:\n",
    "            stack.pop()\n",
    "        else:\n",
    "            stack.append(s[i])\n",
    "        i += 1\n",
    "    if i < len(s):\n",
    "        stack.append(s[i])\n",
    "    i += 1"
   ]
  },
  {
   "cell_type": "code",
   "execution_count": 78,
   "metadata": {},
   "outputs": [
    {
     "data": {
      "text/plain": [
       "([], 3, 'a')"
      ]
     },
     "execution_count": 78,
     "metadata": {},
     "output_type": "execute_result"
    }
   ],
   "source": [
    "stack, i, cur"
   ]
  },
  {
   "cell_type": "code",
   "execution_count": 79,
   "metadata": {},
   "outputs": [
    {
     "data": {
      "text/plain": [
       "''"
      ]
     },
     "execution_count": 79,
     "metadata": {},
     "output_type": "execute_result"
    }
   ],
   "source": [
    "''.join(stack)"
   ]
  },
  {
   "cell_type": "code",
   "execution_count": null,
   "metadata": {},
   "outputs": [],
   "source": [
    "def superReducedString(s: str) -> None|str:\n",
    "    # Write your code here\n",
    "    if not s: return \n",
    "    stack = [s[0]]\n",
    "    i = 1\n",
    "    while i < len(s):\n",
    "        while stack and i < len(s):\n",
    "            cur = stack[-1]\n",
    "            if cur == s[i]: stack.pop()\n",
    "            else: stack.append(s[i])\n",
    "            i += 1\n",
    "        if i < len(s): stack.append(s[i])\n",
    "        i += 1\n",
    "    return ''.join(stack) if stack else 'Empty String'\n",
    "    "
   ]
  }
 ],
 "metadata": {
  "kernelspec": {
   "display_name": ".venv",
   "language": "python",
   "name": "python3"
  },
  "language_info": {
   "codemirror_mode": {
    "name": "ipython",
    "version": 3
   },
   "file_extension": ".py",
   "mimetype": "text/x-python",
   "name": "python",
   "nbconvert_exporter": "python",
   "pygments_lexer": "ipython3",
   "version": "3.10.9"
  },
  "orig_nbformat": 4,
  "vscode": {
   "interpreter": {
    "hash": "ae2d3659b3684f688dcecafa70fc576f1d22112b75078f64f7d72a545140f712"
   }
  }
 },
 "nbformat": 4,
 "nbformat_minor": 2
}
