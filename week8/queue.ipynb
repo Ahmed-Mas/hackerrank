{
 "cells": [
  {
   "cell_type": "code",
   "execution_count": null,
   "metadata": {},
   "outputs": [],
   "source": [
    "# Enter your code here. Read input from STDIN. Print output to STDOUT\n",
    "import sys\n",
    "\n",
    "class Queue:\n",
    "    def __init__(self):\n",
    "        self.queue = []\n",
    "        \n",
    "    def enqueue(self, n):\n",
    "        self.queue.append(n)\n",
    "    \n",
    "    def dequeue(self):\n",
    "        return self.queue.pop(0)\n",
    "    \n",
    "    def printqueue(self):\n",
    "        print(self.queue[0])\n",
    "        \n",
    "        \n",
    "def main():\n",
    "    que = Queue()\n",
    "    q = int(input())\n",
    "    for _ in range(q):\n",
    "        i = input()\n",
    "        if i[0] == '1':\n",
    "            _, n = i.split(' ')\n",
    "            que.enqueue(int(n))\n",
    "        elif i == '2':\n",
    "            que.dequeue()\n",
    "        else:\n",
    "            que.printqueue()\n",
    "\n",
    "\n",
    "    \n",
    "if __name__ == '__main__':\n",
    "    main()"
   ]
  }
 ],
 "metadata": {
  "language_info": {
   "name": "python"
  },
  "orig_nbformat": 4
 },
 "nbformat": 4,
 "nbformat_minor": 2
}
