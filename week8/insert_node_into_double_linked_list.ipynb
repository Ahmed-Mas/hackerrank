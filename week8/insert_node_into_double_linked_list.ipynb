{
 "cells": [
  {
   "cell_type": "code",
   "execution_count": 132,
   "metadata": {},
   "outputs": [],
   "source": [
    "class DoublyLinkedListNode():\n",
    "    def __init__(self, data, next=None, prev=None) -> None:\n",
    "        self.data = data\n",
    "        self.next = next\n",
    "        self.prev = prev"
   ]
  },
  {
   "cell_type": "code",
   "execution_count": 133,
   "metadata": {},
   "outputs": [],
   "source": [
    "node1 = DoublyLinkedListNode(1)\n",
    "node2 = DoublyLinkedListNode(3)\n",
    "node4 = DoublyLinkedListNode(4)\n",
    "node5 = DoublyLinkedListNode(10)\n",
    "\n",
    "node1.next = node2\n",
    "node2.next = node4\n",
    "node4.next = node5\n",
    "\n",
    "node2.prev = node1\n",
    "node4.prev = node2\n",
    "node5.prev = node4"
   ]
  },
  {
   "cell_type": "code",
   "execution_count": 134,
   "metadata": {},
   "outputs": [],
   "source": [
    "new_data = DoublyLinkedListNode(5)"
   ]
  },
  {
   "cell_type": "code",
   "execution_count": null,
   "metadata": {},
   "outputs": [],
   "source": [
    "if new_data.data < node1.data:\n",
    "    new_data.next = node1\n",
    "    node1.prev = new_data"
   ]
  },
  {
   "cell_type": "code",
   "execution_count": null,
   "metadata": {},
   "outputs": [],
   "source": [
    "prev = node1.prev\n",
    "cur = node1\n",
    "nxt = node1.next"
   ]
  },
  {
   "cell_type": "code",
   "execution_count": null,
   "metadata": {},
   "outputs": [],
   "source": [
    "if new_data.data <= nxt.data:\n",
    "    new_data.next = nxt\n",
    "    new_data.prev = cur\n",
    "\n",
    "    nxt.prev = new_data\n",
    "    cur.next = new_data\n",
    "else:\n",
    "    nxt = nxt.next\n",
    "    prev = cur\n",
    "    cur = cur.next"
   ]
  },
  {
   "cell_type": "code",
   "execution_count": null,
   "metadata": {},
   "outputs": [],
   "source": [
    "node1.next.next.next.next.data"
   ]
  },
  {
   "cell_type": "code",
   "execution_count": null,
   "metadata": {},
   "outputs": [],
   "source": [
    "nxt"
   ]
  },
  {
   "cell_type": "code",
   "execution_count": null,
   "metadata": {},
   "outputs": [],
   "source": [
    "cur.data"
   ]
  },
  {
   "cell_type": "code",
   "execution_count": 137,
   "metadata": {},
   "outputs": [],
   "source": [
    "#  can shorten with a few changes\n",
    "def sortedInsert(llist: DoublyLinkedListNode, data: int) -> DoublyLinkedListNode:\n",
    "    # Write your code here\n",
    "    new_data = DoublyLinkedListNode(data)\n",
    "    if new_data.data < llist.data: \n",
    "        new_data.next = llist\n",
    "        llist.prev = new_data\n",
    "        return new_data\n",
    "    \n",
    "    cur, nxt = llist, llist.next\n",
    "    while nxt:\n",
    "        if new_data.data <= nxt.data:\n",
    "            new_data.next = nxt\n",
    "            new_data.prev = cur\n",
    "\n",
    "            nxt.prev = new_data\n",
    "            cur.next = new_data\n",
    "            return llist\n",
    "        else:\n",
    "            nxt = nxt.next\n",
    "            cur = cur.next\n",
    "    cur.next = new_data\n",
    "    new_data.prev = cur\n",
    "    return llist\n",
    "    "
   ]
  },
  {
   "cell_type": "code",
   "execution_count": 138,
   "metadata": {},
   "outputs": [],
   "source": [
    "res = sortedInsert(node1, 5)"
   ]
  },
  {
   "cell_type": "code",
   "execution_count": null,
   "metadata": {},
   "outputs": [],
   "source": []
  }
 ],
 "metadata": {
  "kernelspec": {
   "display_name": ".venv",
   "language": "python",
   "name": "python3"
  },
  "language_info": {
   "codemirror_mode": {
    "name": "ipython",
    "version": 3
   },
   "file_extension": ".py",
   "mimetype": "text/x-python",
   "name": "python",
   "nbconvert_exporter": "python",
   "pygments_lexer": "ipython3",
   "version": "3.10.9"
  },
  "orig_nbformat": 4,
  "vscode": {
   "interpreter": {
    "hash": "ae2d3659b3684f688dcecafa70fc576f1d22112b75078f64f7d72a545140f712"
   }
  }
 },
 "nbformat": 4,
 "nbformat_minor": 2
}
