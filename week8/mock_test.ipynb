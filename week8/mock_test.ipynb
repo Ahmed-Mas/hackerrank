{
 "cells": [
  {
   "cell_type": "code",
   "execution_count": 1,
   "metadata": {},
   "outputs": [],
   "source": [
    "class SinglyLinkedListNode():\n",
    "    def __init__(self, data, next=None) -> None:\n",
    "        self.data = data\n",
    "        self.next = next\n"
   ]
  },
  {
   "cell_type": "code",
   "execution_count": 31,
   "metadata": {},
   "outputs": [],
   "source": [
    "head = SinglyLinkedListNode(\n",
    "    1,\n",
    "    SinglyLinkedListNode(\n",
    "        2,\n",
    "        SinglyLinkedListNode(\n",
    "            2,\n",
    "            SinglyLinkedListNode(\n",
    "                2,\n",
    "                SinglyLinkedListNode(\n",
    "                    3,\n",
    "                    SinglyLinkedListNode(\n",
    "                        4,\n",
    "                        SinglyLinkedListNode(\n",
    "                            5\n",
    "                        )\n",
    "                    )\n",
    "                )\n",
    "            )\n",
    "        )\n",
    "    )\n",
    ")"
   ]
  },
  {
   "cell_type": "code",
   "execution_count": 21,
   "metadata": {},
   "outputs": [
    {
     "data": {
      "text/plain": [
       "5"
      ]
     },
     "execution_count": 21,
     "metadata": {},
     "output_type": "execute_result"
    }
   ],
   "source": [
    "head.next.next.next.next.next.next.data"
   ]
  },
  {
   "cell_type": "code",
   "execution_count": 22,
   "metadata": {},
   "outputs": [],
   "source": [
    "cur, nxt = head, head.next"
   ]
  },
  {
   "cell_type": "code",
   "execution_count": 23,
   "metadata": {},
   "outputs": [],
   "source": [
    "while nxt:\n",
    "    if cur.data == nxt.data:\n",
    "        cur.next = nxt.next\n",
    "        nxt = nxt.next\n",
    "    else:\n",
    "        cur = cur.next\n",
    "        nxt = nxt.next"
   ]
  },
  {
   "cell_type": "code",
   "execution_count": 30,
   "metadata": {},
   "outputs": [],
   "source": [
    "def func(llist: SinglyLinkedListNode) -> SinglyLinkedListNode:\n",
    "    cur, nxt = head, head.next\n",
    "    while nxt:\n",
    "        if cur.data == nxt.data:\n",
    "            cur.next = nxt.next\n",
    "            nxt = nxt.next\n",
    "            continue\n",
    "        cur = cur.next\n",
    "        nxt = nxt.next\n",
    "    return llist"
   ]
  },
  {
   "cell_type": "code",
   "execution_count": 32,
   "metadata": {},
   "outputs": [],
   "source": [
    "res = func(head)"
   ]
  },
  {
   "cell_type": "code",
   "execution_count": 37,
   "metadata": {},
   "outputs": [
    {
     "data": {
      "text/plain": [
       "5"
      ]
     },
     "execution_count": 37,
     "metadata": {},
     "output_type": "execute_result"
    }
   ],
   "source": [
    "res.next.next.next.next.data"
   ]
  },
  {
   "cell_type": "code",
   "execution_count": null,
   "metadata": {},
   "outputs": [],
   "source": []
  }
 ],
 "metadata": {
  "kernelspec": {
   "display_name": ".venv",
   "language": "python",
   "name": "python3"
  },
  "language_info": {
   "codemirror_mode": {
    "name": "ipython",
    "version": 3
   },
   "file_extension": ".py",
   "mimetype": "text/x-python",
   "name": "python",
   "nbconvert_exporter": "python",
   "pygments_lexer": "ipython3",
   "version": "3.10.9"
  },
  "orig_nbformat": 4,
  "vscode": {
   "interpreter": {
    "hash": "ae2d3659b3684f688dcecafa70fc576f1d22112b75078f64f7d72a545140f712"
   }
  }
 },
 "nbformat": 4,
 "nbformat_minor": 2
}
