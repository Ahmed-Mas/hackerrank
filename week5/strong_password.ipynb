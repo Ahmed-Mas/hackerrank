{
 "cells": [
  {
   "cell_type": "code",
   "execution_count": 2,
   "metadata": {},
   "outputs": [],
   "source": [
    "import re"
   ]
  },
  {
   "cell_type": "code",
   "execution_count": 29,
   "metadata": {},
   "outputs": [],
   "source": [
    "numbers = re.compile('\\d')\n",
    "lower_case = re.compile('[a-z]')\n",
    "upper_case = re.compile('[A-Z]')\n",
    "special_characters = re.compile('[!@#$%^&*()\\-+]')  # the '-' is a trick/edge case\n"
   ]
  },
  {
   "cell_type": "code",
   "execution_count": 12,
   "metadata": {},
   "outputs": [
    {
     "data": {
      "text/plain": [
       "['#']"
      ]
     },
     "execution_count": 12,
     "metadata": {},
     "output_type": "execute_result"
    }
   ],
   "source": [
    "numbers.findall('hel2lo')\n",
    "lower_case.findall('HELLOs')\n",
    "upper_case.findall('HELLOs')\n",
    "special_characters.findall('#')"
   ]
  },
  {
   "cell_type": "code",
   "execution_count": 30,
   "metadata": {},
   "outputs": [
    {
     "data": {
      "text/plain": [
       "['!', '@', '#', '$', '%', '^', '&', '*', '(', ')', '-', '+']"
      ]
     },
     "execution_count": 30,
     "metadata": {},
     "output_type": "execute_result"
    }
   ],
   "source": [
    "special_characters.findall('!@#$%^&*()-+')"
   ]
  },
  {
   "cell_type": "code",
   "execution_count": null,
   "metadata": {},
   "outputs": [],
   "source": [
    "def minimumNumber(n: int, password: str) -> int:\n",
    "    # Return the minimum number of characters to make the password strong\n",
    "    numbers = re.compile('\\d')\n",
    "    lower_case = re.compile('[a-z]')\n",
    "    upper_case = re.compile('[A-Z]')\n",
    "    special_characters = re.compile('[!@#$%^&*()\\-+]')\n",
    "    \n",
    "    chars_req = 0\n",
    "    if not numbers.findall(password): chars_req += 1\n",
    "    if not lower_case.findall(password): chars_req += 1\n",
    "    if not upper_case.findall(password): chars_req += 1\n",
    "    if not special_characters.findall(password): chars_req += 1\n",
    "    \n",
    "    if n + chars_req >= 6:\n",
    "        return chars_req\n",
    "    \n",
    "    return 6 - n"
   ]
  }
 ],
 "metadata": {
  "kernelspec": {
   "display_name": ".venv",
   "language": "python",
   "name": "python3"
  },
  "language_info": {
   "codemirror_mode": {
    "name": "ipython",
    "version": 3
   },
   "file_extension": ".py",
   "mimetype": "text/x-python",
   "name": "python",
   "nbconvert_exporter": "python",
   "pygments_lexer": "ipython3",
   "version": "3.10.9"
  },
  "orig_nbformat": 4,
  "vscode": {
   "interpreter": {
    "hash": "ae2d3659b3684f688dcecafa70fc576f1d22112b75078f64f7d72a545140f712"
   }
  }
 },
 "nbformat": 4,
 "nbformat_minor": 2
}
