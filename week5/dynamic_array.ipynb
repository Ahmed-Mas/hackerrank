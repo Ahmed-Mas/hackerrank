{
 "cells": [
  {
   "cell_type": "code",
   "execution_count": 54,
   "metadata": {},
   "outputs": [],
   "source": [
    "quries = [[1, 0, 5], [1,1,7], [1,0,3], [2,1,0], [2,1,1]]"
   ]
  },
  {
   "cell_type": "code",
   "execution_count": 55,
   "metadata": {},
   "outputs": [],
   "source": [
    "n = 2\n",
    "arr = [[] for _ in range(n)]"
   ]
  },
  {
   "cell_type": "code",
   "execution_count": 60,
   "metadata": {},
   "outputs": [
    {
     "name": "stdout",
     "output_type": "stream",
     "text": [
      "[7, 3]\n"
     ]
    }
   ],
   "source": [
    "ans = []\n",
    "last_answer = 0\n",
    "for q in quries:\n",
    "    q_type, x, y = q\n",
    "    idx = (x ^ last_answer) % n\n",
    "\n",
    "    if q_type == 1:\n",
    "        arr[idx].append(y)\n",
    "    else:\n",
    "        last_answer = arr[idx][y % len(arr[idx])]\n",
    "        ans.append(last_answer)\n",
    "\n",
    "print(ans)"
   ]
  },
  {
   "cell_type": "code",
   "execution_count": 62,
   "metadata": {},
   "outputs": [],
   "source": [
    "def dynamicArray(n: int, queries: list[list[int]]) -> list[int]:\n",
    "    # Write your code here\n",
    "    ans = []\n",
    "    last_answer = 0\n",
    "    for q in queries:\n",
    "        q_type, x, y = q\n",
    "        idx = (x ^ last_answer) % n\n",
    "\n",
    "        if q_type == 1:\n",
    "            arr[idx].append(y)\n",
    "        else:\n",
    "            last_answer = arr[idx][y % len(arr[idx])]\n",
    "            ans.append(last_answer)\n",
    "\n",
    "    return ans"
   ]
  },
  {
   "cell_type": "code",
   "execution_count": 63,
   "metadata": {},
   "outputs": [
    {
     "data": {
      "text/plain": [
       "[7, 3]"
      ]
     },
     "execution_count": 63,
     "metadata": {},
     "output_type": "execute_result"
    }
   ],
   "source": [
    "dynamicArray(2, quries)"
   ]
  },
  {
   "cell_type": "code",
   "execution_count": null,
   "metadata": {},
   "outputs": [],
   "source": []
  }
 ],
 "metadata": {
  "kernelspec": {
   "display_name": ".venv",
   "language": "python",
   "name": "python3"
  },
  "language_info": {
   "codemirror_mode": {
    "name": "ipython",
    "version": 3
   },
   "file_extension": ".py",
   "mimetype": "text/x-python",
   "name": "python",
   "nbconvert_exporter": "python",
   "pygments_lexer": "ipython3",
   "version": "3.10.9"
  },
  "orig_nbformat": 4,
  "vscode": {
   "interpreter": {
    "hash": "ae2d3659b3684f688dcecafa70fc576f1d22112b75078f64f7d72a545140f712"
   }
  }
 },
 "nbformat": 4,
 "nbformat_minor": 2
}
