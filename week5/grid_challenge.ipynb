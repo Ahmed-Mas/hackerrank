{
 "cells": [
  {
   "cell_type": "code",
   "execution_count": 2,
   "metadata": {},
   "outputs": [],
   "source": [
    "grid = ['ebacd', 'fghij', 'olmkn', 'trpqs', 'xywuv']\n"
   ]
  },
  {
   "cell_type": "code",
   "execution_count": 14,
   "metadata": {},
   "outputs": [
    {
     "name": "stdout",
     "output_type": "stream",
     "text": [
      "YES\n"
     ]
    }
   ],
   "source": [
    "for idx in range(len(grid)):\n",
    "    grid[idx] = sorted(grid[idx])\n",
    "\n",
    "x = y = 0\n",
    "while x < len(grid):\n",
    "    tmp = ''\n",
    "    while y < len(grid):\n",
    "        tmp += grid[y][x]\n",
    "        y += 1\n",
    "    if tmp != ''.join(sorted(tmp)):\n",
    "        print('NO')\n",
    "    x += 1\n",
    "    y = 0\n",
    "print('YES')"
   ]
  },
  {
   "cell_type": "code",
   "execution_count": 7,
   "metadata": {},
   "outputs": [
    {
     "data": {
      "text/plain": [
       "[['a', 'b', 'c', 'd', 'e'],\n",
       " ['f', 'g', 'h', 'i', 'j'],\n",
       " ['k', 'l', 'm', 'n', 'o'],\n",
       " ['p', 'q', 'r', 's', 't'],\n",
       " ['u', 'v', 'w', 'x', 'y']]"
      ]
     },
     "execution_count": 7,
     "metadata": {},
     "output_type": "execute_result"
    }
   ],
   "source": [
    "grid"
   ]
  },
  {
   "cell_type": "code",
   "execution_count": null,
   "metadata": {},
   "outputs": [],
   "source": [
    "def gridChallenge(grid: list[str]) -> str:\n",
    "    # Write your code here\n",
    "    for idx in range(len(grid)): \n",
    "        grid[idx] = sorted(grid[idx])\n",
    "    \n",
    "    x = y = 0\n",
    "    while x < len(grid[0]):\n",
    "        tmp = ''\n",
    "        while y < len(grid):\n",
    "            tmp += grid[y][x]\n",
    "            y += 1\n",
    "            \n",
    "        if tmp != ''.join(sorted(tmp)): return 'NO'\n",
    "    \n",
    "        x += 1\n",
    "        y = 0\n",
    "    return 'YES'"
   ]
  }
 ],
 "metadata": {
  "kernelspec": {
   "display_name": ".venv",
   "language": "python",
   "name": "python3"
  },
  "language_info": {
   "codemirror_mode": {
    "name": "ipython",
    "version": 3
   },
   "file_extension": ".py",
   "mimetype": "text/x-python",
   "name": "python",
   "nbconvert_exporter": "python",
   "pygments_lexer": "ipython3",
   "version": "3.10.9"
  },
  "orig_nbformat": 4,
  "vscode": {
   "interpreter": {
    "hash": "ae2d3659b3684f688dcecafa70fc576f1d22112b75078f64f7d72a545140f712"
   }
  }
 },
 "nbformat": 4,
 "nbformat_minor": 2
}
