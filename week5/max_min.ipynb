{
 "cells": [
  {
   "cell_type": "code",
   "execution_count": null,
   "metadata": {},
   "outputs": [],
   "source": [
    "def maxMin(k: int, arr: list[int]) -> int:\n",
    "    # Write your code here\n",
    "    if len(arr) == 2: return abs(arr[0] - arr[1])\n",
    "    if len(arr) == k: return max(arr) - min(arr)\n",
    "\n",
    "    arr.sort()\n",
    "    cur_min = arr[-1]\n",
    "    for i in range(len(arr) - k + 1):\n",
    "        cur_min = min(cur_min, (arr[k+i-1] - arr[i]))\n",
    "        \n",
    "        if cur_min == 0: return cur_min\n",
    "    return cur_min"
   ]
  }
 ],
 "metadata": {
  "language_info": {
   "name": "python"
  },
  "orig_nbformat": 4
 },
 "nbformat": 4,
 "nbformat_minor": 2
}
