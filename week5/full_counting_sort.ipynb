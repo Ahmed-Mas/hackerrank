{
 "cells": [
  {
   "cell_type": "code",
   "execution_count": 2,
   "metadata": {},
   "outputs": [],
   "source": [
    "arr = [[0, 'a'], [1, 'b'], [0, 'c'], [1, 'd']]"
   ]
  },
  {
   "cell_type": "code",
   "execution_count": 81,
   "metadata": {},
   "outputs": [
    {
     "data": {
      "text/plain": [
       "[[1, 'e'],\n",
       " [2, 'a'],\n",
       " [1, 'b'],\n",
       " [3, 'a'],\n",
       " [4, 'f'],\n",
       " [1, 'f'],\n",
       " [2, 'a'],\n",
       " [1, 'e'],\n",
       " [1, 'b'],\n",
       " [1, 'c']]"
      ]
     },
     "execution_count": 81,
     "metadata": {},
     "output_type": "execute_result"
    }
   ],
   "source": [
    "arr = [[1, 'e'],[2, 'a'],[1, 'b'],[3, 'a'],[4, 'f'],[1, 'f'],[2, 'a'],[1, 'e'],[1, 'b'],[1, 'c']]\n",
    "arr"
   ]
  },
  {
   "cell_type": "code",
   "execution_count": 82,
   "metadata": {},
   "outputs": [
    {
     "data": {
      "text/plain": [
       "[[], [], [], [], [], [], [], [], [], []]"
      ]
     },
     "execution_count": 82,
     "metadata": {},
     "output_type": "execute_result"
    }
   ],
   "source": [
    "places = [[] for i in range(len(arr))]\n",
    "places"
   ]
  },
  {
   "cell_type": "code",
   "execution_count": 84,
   "metadata": {},
   "outputs": [],
   "source": [
    "def countSort(arr: list[list[int, str]]) -> str:\n",
    "    places = [[] for i in range(len(arr))]\n",
    "    for i in range(len(arr)):\n",
    "        to_app = '-' if i < len(arr) // 2 else arr[i][1]\n",
    "        places[int(arr[i][0])].append(to_app)\n",
    "    print(' '.join(c for a in places for c in a))"
   ]
  },
  {
   "cell_type": "code",
   "execution_count": 86,
   "metadata": {},
   "outputs": [
    {
     "name": "stdout",
     "output_type": "stream",
     "text": [
      "- - f e b c - a - -\n"
     ]
    }
   ],
   "source": [
    "countSort(arr)"
   ]
  },
  {
   "cell_type": "code",
   "execution_count": null,
   "metadata": {},
   "outputs": [],
   "source": []
  }
 ],
 "metadata": {
  "kernelspec": {
   "display_name": ".venv",
   "language": "python",
   "name": "python3"
  },
  "language_info": {
   "codemirror_mode": {
    "name": "ipython",
    "version": 3
   },
   "file_extension": ".py",
   "mimetype": "text/x-python",
   "name": "python",
   "nbconvert_exporter": "python",
   "pygments_lexer": "ipython3",
   "version": "3.10.9"
  },
  "orig_nbformat": 4,
  "vscode": {
   "interpreter": {
    "hash": "ae2d3659b3684f688dcecafa70fc576f1d22112b75078f64f7d72a545140f712"
   }
  }
 },
 "nbformat": 4,
 "nbformat_minor": 2
}
